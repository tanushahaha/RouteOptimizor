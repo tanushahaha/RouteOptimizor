{
 "cells": [
  {
   "cell_type": "code",
   "execution_count": 1,
   "metadata": {},
   "outputs": [
    {
     "name": "stdout",
     "output_type": "stream",
     "text": [
      "Requirement already satisfied: geocoder in c:\\users\\raina\\appdata\\local\\packages\\pythonsoftwarefoundation.python.3.11_qbz5n2kfra8p0\\localcache\\local-packages\\python311\\site-packages (1.38.1)\n",
      "Requirement already satisfied: click in c:\\users\\raina\\appdata\\local\\packages\\pythonsoftwarefoundation.python.3.11_qbz5n2kfra8p0\\localcache\\local-packages\\python311\\site-packages (from geocoder) (8.1.7)\n",
      "Requirement already satisfied: future in c:\\users\\raina\\appdata\\local\\packages\\pythonsoftwarefoundation.python.3.11_qbz5n2kfra8p0\\localcache\\local-packages\\python311\\site-packages (from geocoder) (1.0.0)\n",
      "Requirement already satisfied: ratelim in c:\\users\\raina\\appdata\\local\\packages\\pythonsoftwarefoundation.python.3.11_qbz5n2kfra8p0\\localcache\\local-packages\\python311\\site-packages (from geocoder) (0.1.6)\n",
      "Requirement already satisfied: requests in c:\\users\\raina\\appdata\\local\\packages\\pythonsoftwarefoundation.python.3.11_qbz5n2kfra8p0\\localcache\\local-packages\\python311\\site-packages (from geocoder) (2.31.0)\n",
      "Requirement already satisfied: six in c:\\users\\raina\\appdata\\local\\packages\\pythonsoftwarefoundation.python.3.11_qbz5n2kfra8p0\\localcache\\local-packages\\python311\\site-packages (from geocoder) (1.16.0)\n",
      "Requirement already satisfied: colorama in c:\\users\\raina\\appdata\\local\\packages\\pythonsoftwarefoundation.python.3.11_qbz5n2kfra8p0\\localcache\\local-packages\\python311\\site-packages (from click->geocoder) (0.4.6)\n",
      "Requirement already satisfied: decorator in c:\\users\\raina\\appdata\\local\\packages\\pythonsoftwarefoundation.python.3.11_qbz5n2kfra8p0\\localcache\\local-packages\\python311\\site-packages (from ratelim->geocoder) (5.1.1)\n",
      "Requirement already satisfied: charset-normalizer<4,>=2 in c:\\users\\raina\\appdata\\local\\packages\\pythonsoftwarefoundation.python.3.11_qbz5n2kfra8p0\\localcache\\local-packages\\python311\\site-packages (from requests->geocoder) (3.2.0)\n",
      "Requirement already satisfied: idna<4,>=2.5 in c:\\users\\raina\\appdata\\local\\packages\\pythonsoftwarefoundation.python.3.11_qbz5n2kfra8p0\\localcache\\local-packages\\python311\\site-packages (from requests->geocoder) (3.4)\n",
      "Requirement already satisfied: urllib3<3,>=1.21.1 in c:\\users\\raina\\appdata\\local\\packages\\pythonsoftwarefoundation.python.3.11_qbz5n2kfra8p0\\localcache\\local-packages\\python311\\site-packages (from requests->geocoder) (2.0.4)\n",
      "Requirement already satisfied: certifi>=2017.4.17 in c:\\users\\raina\\appdata\\local\\packages\\pythonsoftwarefoundation.python.3.11_qbz5n2kfra8p0\\localcache\\local-packages\\python311\\site-packages (from requests->geocoder) (2024.7.4)\n",
      "Note: you may need to restart the kernel to use updated packages.\n",
      "Requirement already satisfied: leafmap in c:\\users\\raina\\appdata\\local\\packages\\pythonsoftwarefoundation.python.3.11_qbz5n2kfra8p0\\localcache\\local-packages\\python311\\site-packages (0.36.3)\n",
      "Requirement already satisfied: anywidget>=0.9.13 in c:\\users\\raina\\appdata\\local\\packages\\pythonsoftwarefoundation.python.3.11_qbz5n2kfra8p0\\localcache\\local-packages\\python311\\site-packages (from leafmap) (0.9.13)\n",
      "Requirement already satisfied: bqplot>=0.12.43 in c:\\users\\raina\\appdata\\local\\packages\\pythonsoftwarefoundation.python.3.11_qbz5n2kfra8p0\\localcache\\local-packages\\python311\\site-packages (from leafmap) (0.12.43)\n",
      "Requirement already satisfied: colour>=0.1.5 in c:\\users\\raina\\appdata\\local\\packages\\pythonsoftwarefoundation.python.3.11_qbz5n2kfra8p0\\localcache\\local-packages\\python311\\site-packages (from leafmap) (0.1.5)\n",
      "Requirement already satisfied: duckdb>=0.10.3 in c:\\users\\raina\\appdata\\local\\packages\\pythonsoftwarefoundation.python.3.11_qbz5n2kfra8p0\\localcache\\local-packages\\python311\\site-packages (from leafmap) (1.0.0)\n",
      "Requirement already satisfied: folium>=0.14.0 in c:\\users\\raina\\appdata\\local\\packages\\pythonsoftwarefoundation.python.3.11_qbz5n2kfra8p0\\localcache\\local-packages\\python311\\site-packages (from leafmap) (0.17.0)\n",
      "Requirement already satisfied: gdown>=5.1.0 in c:\\users\\raina\\appdata\\local\\packages\\pythonsoftwarefoundation.python.3.11_qbz5n2kfra8p0\\localcache\\local-packages\\python311\\site-packages (from leafmap) (5.2.0)\n",
      "Requirement already satisfied: geojson>=3.1.0 in c:\\users\\raina\\appdata\\local\\packages\\pythonsoftwarefoundation.python.3.11_qbz5n2kfra8p0\\localcache\\local-packages\\python311\\site-packages (from leafmap) (3.1.0)\n",
      "Requirement already satisfied: ipyevents>=2.0.2 in c:\\users\\raina\\appdata\\local\\packages\\pythonsoftwarefoundation.python.3.11_qbz5n2kfra8p0\\localcache\\local-packages\\python311\\site-packages (from leafmap) (2.0.2)\n",
      "Requirement already satisfied: ipyfilechooser>=0.6.0 in c:\\users\\raina\\appdata\\local\\packages\\pythonsoftwarefoundation.python.3.11_qbz5n2kfra8p0\\localcache\\local-packages\\python311\\site-packages (from leafmap) (0.6.0)\n",
      "Requirement already satisfied: ipyleaflet>=0.18.2 in c:\\users\\raina\\appdata\\local\\packages\\pythonsoftwarefoundation.python.3.11_qbz5n2kfra8p0\\localcache\\local-packages\\python311\\site-packages (from leafmap) (0.19.2)\n",
      "Requirement already satisfied: ipyvuetify>=1.9.4 in c:\\users\\raina\\appdata\\local\\packages\\pythonsoftwarefoundation.python.3.11_qbz5n2kfra8p0\\localcache\\local-packages\\python311\\site-packages (from leafmap) (1.10.0)\n",
      "Requirement already satisfied: ipywidgets>=7.6.0 in c:\\users\\raina\\appdata\\local\\packages\\pythonsoftwarefoundation.python.3.11_qbz5n2kfra8p0\\localcache\\local-packages\\python311\\site-packages (from leafmap) (7.8.3)\n",
      "Requirement already satisfied: matplotlib>=3.7.1 in c:\\users\\raina\\appdata\\local\\packages\\pythonsoftwarefoundation.python.3.11_qbz5n2kfra8p0\\localcache\\local-packages\\python311\\site-packages (from leafmap) (3.9.0)\n",
      "Requirement already satisfied: numpy<3.0.0,>=1.25.0 in c:\\users\\raina\\appdata\\local\\packages\\pythonsoftwarefoundation.python.3.11_qbz5n2kfra8p0\\localcache\\local-packages\\python311\\site-packages (from leafmap) (1.26.4)\n",
      "Requirement already satisfied: pandas>=2.0.3 in c:\\users\\raina\\appdata\\local\\packages\\pythonsoftwarefoundation.python.3.11_qbz5n2kfra8p0\\localcache\\local-packages\\python311\\site-packages (from leafmap) (2.2.2)\n",
      "Requirement already satisfied: plotly>=5.15.0 in c:\\users\\raina\\appdata\\local\\packages\\pythonsoftwarefoundation.python.3.11_qbz5n2kfra8p0\\localcache\\local-packages\\python311\\site-packages (from leafmap) (5.23.0)\n",
      "Requirement already satisfied: pyshp>=2.3.1 in c:\\users\\raina\\appdata\\local\\packages\\pythonsoftwarefoundation.python.3.11_qbz5n2kfra8p0\\localcache\\local-packages\\python311\\site-packages (from leafmap) (2.3.1)\n",
      "Requirement already satisfied: pystac-client>=0.8.2 in c:\\users\\raina\\appdata\\local\\packages\\pythonsoftwarefoundation.python.3.11_qbz5n2kfra8p0\\localcache\\local-packages\\python311\\site-packages (from leafmap) (0.8.3)\n",
      "Requirement already satisfied: python-box>=7.2.0 in c:\\users\\raina\\appdata\\local\\packages\\pythonsoftwarefoundation.python.3.11_qbz5n2kfra8p0\\localcache\\local-packages\\python311\\site-packages (from leafmap) (7.2.0)\n",
      "Requirement already satisfied: scooby>=0.10.0 in c:\\users\\raina\\appdata\\local\\packages\\pythonsoftwarefoundation.python.3.11_qbz5n2kfra8p0\\localcache\\local-packages\\python311\\site-packages (from leafmap) (0.10.0)\n",
      "Requirement already satisfied: whiteboxgui>=2.3.0 in c:\\users\\raina\\appdata\\local\\packages\\pythonsoftwarefoundation.python.3.11_qbz5n2kfra8p0\\localcache\\local-packages\\python311\\site-packages (from leafmap) (2.3.0)\n",
      "Requirement already satisfied: xyzservices>=2024.6.0 in c:\\users\\raina\\appdata\\local\\packages\\pythonsoftwarefoundation.python.3.11_qbz5n2kfra8p0\\localcache\\local-packages\\python311\\site-packages (from leafmap) (2024.6.0)\n",
      "Requirement already satisfied: psygnal>=0.8.1 in c:\\users\\raina\\appdata\\local\\packages\\pythonsoftwarefoundation.python.3.11_qbz5n2kfra8p0\\localcache\\local-packages\\python311\\site-packages (from anywidget>=0.9.13->leafmap) (0.11.1)\n",
      "Requirement already satisfied: typing-extensions>=4.2.0 in c:\\users\\raina\\appdata\\local\\packages\\pythonsoftwarefoundation.python.3.11_qbz5n2kfra8p0\\localcache\\local-packages\\python311\\site-packages (from anywidget>=0.9.13->leafmap) (4.12.2)\n",
      "Requirement already satisfied: traitlets>=4.3.0 in c:\\users\\raina\\appdata\\local\\packages\\pythonsoftwarefoundation.python.3.11_qbz5n2kfra8p0\\localcache\\local-packages\\python311\\site-packages (from bqplot>=0.12.43->leafmap) (5.9.0)\n",
      "Requirement already satisfied: traittypes>=0.0.6 in c:\\users\\raina\\appdata\\local\\packages\\pythonsoftwarefoundation.python.3.11_qbz5n2kfra8p0\\localcache\\local-packages\\python311\\site-packages (from bqplot>=0.12.43->leafmap) (0.2.1)\n",
      "Requirement already satisfied: branca>=0.6.0 in c:\\users\\raina\\appdata\\local\\packages\\pythonsoftwarefoundation.python.3.11_qbz5n2kfra8p0\\localcache\\local-packages\\python311\\site-packages (from folium>=0.14.0->leafmap) (0.7.2)\n",
      "Requirement already satisfied: jinja2>=2.9 in c:\\users\\raina\\appdata\\local\\packages\\pythonsoftwarefoundation.python.3.11_qbz5n2kfra8p0\\localcache\\local-packages\\python311\\site-packages (from folium>=0.14.0->leafmap) (3.1.2)\n",
      "Requirement already satisfied: requests in c:\\users\\raina\\appdata\\local\\packages\\pythonsoftwarefoundation.python.3.11_qbz5n2kfra8p0\\localcache\\local-packages\\python311\\site-packages (from folium>=0.14.0->leafmap) (2.31.0)\n",
      "Requirement already satisfied: beautifulsoup4 in c:\\users\\raina\\appdata\\local\\packages\\pythonsoftwarefoundation.python.3.11_qbz5n2kfra8p0\\localcache\\local-packages\\python311\\site-packages (from gdown>=5.1.0->leafmap) (4.12.2)\n",
      "Requirement already satisfied: filelock in c:\\users\\raina\\appdata\\local\\packages\\pythonsoftwarefoundation.python.3.11_qbz5n2kfra8p0\\localcache\\local-packages\\python311\\site-packages (from gdown>=5.1.0->leafmap) (3.15.4)\n",
      "Requirement already satisfied: tqdm in c:\\users\\raina\\appdata\\local\\packages\\pythonsoftwarefoundation.python.3.11_qbz5n2kfra8p0\\localcache\\local-packages\\python311\\site-packages (from gdown>=5.1.0->leafmap) (4.66.4)\n",
      "Requirement already satisfied: jupyter-leaflet<0.20,>=0.19 in c:\\users\\raina\\appdata\\local\\packages\\pythonsoftwarefoundation.python.3.11_qbz5n2kfra8p0\\localcache\\local-packages\\python311\\site-packages (from ipyleaflet>=0.18.2->leafmap) (0.19.2)\n",
      "Requirement already satisfied: ipyvue<2,>=1.7 in c:\\users\\raina\\appdata\\local\\packages\\pythonsoftwarefoundation.python.3.11_qbz5n2kfra8p0\\localcache\\local-packages\\python311\\site-packages (from ipyvuetify>=1.9.4->leafmap) (1.11.1)\n",
      "Requirement already satisfied: comm>=0.1.3 in c:\\users\\raina\\appdata\\local\\packages\\pythonsoftwarefoundation.python.3.11_qbz5n2kfra8p0\\localcache\\local-packages\\python311\\site-packages (from ipywidgets>=7.6.0->leafmap) (0.1.4)\n",
      "Requirement already satisfied: ipython-genutils~=0.2.0 in c:\\users\\raina\\appdata\\local\\packages\\pythonsoftwarefoundation.python.3.11_qbz5n2kfra8p0\\localcache\\local-packages\\python311\\site-packages (from ipywidgets>=7.6.0->leafmap) (0.2.0)\n",
      "Requirement already satisfied: widgetsnbextension~=3.6.8 in c:\\users\\raina\\appdata\\local\\packages\\pythonsoftwarefoundation.python.3.11_qbz5n2kfra8p0\\localcache\\local-packages\\python311\\site-packages (from ipywidgets>=7.6.0->leafmap) (3.6.8)\n",
      "Requirement already satisfied: ipython>=4.0.0 in c:\\users\\raina\\appdata\\local\\packages\\pythonsoftwarefoundation.python.3.11_qbz5n2kfra8p0\\localcache\\local-packages\\python311\\site-packages (from ipywidgets>=7.6.0->leafmap) (8.14.0)\n",
      "Requirement already satisfied: jupyterlab-widgets<3,>=1.0.0 in c:\\users\\raina\\appdata\\local\\packages\\pythonsoftwarefoundation.python.3.11_qbz5n2kfra8p0\\localcache\\local-packages\\python311\\site-packages (from ipywidgets>=7.6.0->leafmap) (1.1.9)\n",
      "Requirement already satisfied: contourpy>=1.0.1 in c:\\users\\raina\\appdata\\local\\packages\\pythonsoftwarefoundation.python.3.11_qbz5n2kfra8p0\\localcache\\local-packages\\python311\\site-packages (from matplotlib>=3.7.1->leafmap) (1.2.1)\n",
      "Requirement already satisfied: cycler>=0.10 in c:\\users\\raina\\appdata\\local\\packages\\pythonsoftwarefoundation.python.3.11_qbz5n2kfra8p0\\localcache\\local-packages\\python311\\site-packages (from matplotlib>=3.7.1->leafmap) (0.12.1)\n",
      "Requirement already satisfied: fonttools>=4.22.0 in c:\\users\\raina\\appdata\\local\\packages\\pythonsoftwarefoundation.python.3.11_qbz5n2kfra8p0\\localcache\\local-packages\\python311\\site-packages (from matplotlib>=3.7.1->leafmap) (4.53.1)\n",
      "Requirement already satisfied: kiwisolver>=1.3.1 in c:\\users\\raina\\appdata\\local\\packages\\pythonsoftwarefoundation.python.3.11_qbz5n2kfra8p0\\localcache\\local-packages\\python311\\site-packages (from matplotlib>=3.7.1->leafmap) (1.4.5)\n",
      "Requirement already satisfied: packaging>=20.0 in c:\\users\\raina\\appdata\\local\\packages\\pythonsoftwarefoundation.python.3.11_qbz5n2kfra8p0\\localcache\\local-packages\\python311\\site-packages (from matplotlib>=3.7.1->leafmap) (23.1)\n",
      "Requirement already satisfied: pillow>=8 in c:\\users\\raina\\appdata\\local\\packages\\pythonsoftwarefoundation.python.3.11_qbz5n2kfra8p0\\localcache\\local-packages\\python311\\site-packages (from matplotlib>=3.7.1->leafmap) (10.4.0)\n",
      "Requirement already satisfied: pyparsing>=2.3.1 in c:\\users\\raina\\appdata\\local\\packages\\pythonsoftwarefoundation.python.3.11_qbz5n2kfra8p0\\localcache\\local-packages\\python311\\site-packages (from matplotlib>=3.7.1->leafmap) (3.1.2)\n",
      "Requirement already satisfied: python-dateutil>=2.7 in c:\\users\\raina\\appdata\\local\\packages\\pythonsoftwarefoundation.python.3.11_qbz5n2kfra8p0\\localcache\\local-packages\\python311\\site-packages (from matplotlib>=3.7.1->leafmap) (2.8.2)\n",
      "Requirement already satisfied: pytz>=2020.1 in c:\\users\\raina\\appdata\\local\\packages\\pythonsoftwarefoundation.python.3.11_qbz5n2kfra8p0\\localcache\\local-packages\\python311\\site-packages (from pandas>=2.0.3->leafmap) (2024.1)\n",
      "Requirement already satisfied: tzdata>=2022.7 in c:\\users\\raina\\appdata\\local\\packages\\pythonsoftwarefoundation.python.3.11_qbz5n2kfra8p0\\localcache\\local-packages\\python311\\site-packages (from pandas>=2.0.3->leafmap) (2024.1)\n",
      "Requirement already satisfied: tenacity>=6.2.0 in c:\\users\\raina\\appdata\\local\\packages\\pythonsoftwarefoundation.python.3.11_qbz5n2kfra8p0\\localcache\\local-packages\\python311\\site-packages (from plotly>=5.15.0->leafmap) (9.0.0)\n",
      "Requirement already satisfied: pystac>=1.10.0 in c:\\users\\raina\\appdata\\local\\packages\\pythonsoftwarefoundation.python.3.11_qbz5n2kfra8p0\\localcache\\local-packages\\python311\\site-packages (from pystac[validation]>=1.10.0->pystac-client>=0.8.2->leafmap) (1.10.1)\n",
      "Requirement already satisfied: ipytree in c:\\users\\raina\\appdata\\local\\packages\\pythonsoftwarefoundation.python.3.11_qbz5n2kfra8p0\\localcache\\local-packages\\python311\\site-packages (from whiteboxgui>=2.3.0->leafmap) (0.2.2)\n",
      "Requirement already satisfied: whitebox in c:\\users\\raina\\appdata\\local\\packages\\pythonsoftwarefoundation.python.3.11_qbz5n2kfra8p0\\localcache\\local-packages\\python311\\site-packages (from whiteboxgui>=2.3.0->leafmap) (2.3.5)\n",
      "Requirement already satisfied: backcall in c:\\users\\raina\\appdata\\local\\packages\\pythonsoftwarefoundation.python.3.11_qbz5n2kfra8p0\\localcache\\local-packages\\python311\\site-packages (from ipython>=4.0.0->ipywidgets>=7.6.0->leafmap) (0.2.0)\n",
      "Requirement already satisfied: decorator in c:\\users\\raina\\appdata\\local\\packages\\pythonsoftwarefoundation.python.3.11_qbz5n2kfra8p0\\localcache\\local-packages\\python311\\site-packages (from ipython>=4.0.0->ipywidgets>=7.6.0->leafmap) (5.1.1)\n",
      "Requirement already satisfied: jedi>=0.16 in c:\\users\\raina\\appdata\\local\\packages\\pythonsoftwarefoundation.python.3.11_qbz5n2kfra8p0\\localcache\\local-packages\\python311\\site-packages (from ipython>=4.0.0->ipywidgets>=7.6.0->leafmap) (0.19.0)\n",
      "Requirement already satisfied: matplotlib-inline in c:\\users\\raina\\appdata\\local\\packages\\pythonsoftwarefoundation.python.3.11_qbz5n2kfra8p0\\localcache\\local-packages\\python311\\site-packages (from ipython>=4.0.0->ipywidgets>=7.6.0->leafmap) (0.1.6)\n",
      "Requirement already satisfied: pickleshare in c:\\users\\raina\\appdata\\local\\packages\\pythonsoftwarefoundation.python.3.11_qbz5n2kfra8p0\\localcache\\local-packages\\python311\\site-packages (from ipython>=4.0.0->ipywidgets>=7.6.0->leafmap) (0.7.5)\n",
      "Requirement already satisfied: prompt-toolkit!=3.0.37,<3.1.0,>=3.0.30 in c:\\users\\raina\\appdata\\local\\packages\\pythonsoftwarefoundation.python.3.11_qbz5n2kfra8p0\\localcache\\local-packages\\python311\\site-packages (from ipython>=4.0.0->ipywidgets>=7.6.0->leafmap) (3.0.39)\n",
      "Requirement already satisfied: pygments>=2.4.0 in c:\\users\\raina\\appdata\\local\\packages\\pythonsoftwarefoundation.python.3.11_qbz5n2kfra8p0\\localcache\\local-packages\\python311\\site-packages (from ipython>=4.0.0->ipywidgets>=7.6.0->leafmap) (2.16.1)\n",
      "Requirement already satisfied: stack-data in c:\\users\\raina\\appdata\\local\\packages\\pythonsoftwarefoundation.python.3.11_qbz5n2kfra8p0\\localcache\\local-packages\\python311\\site-packages (from ipython>=4.0.0->ipywidgets>=7.6.0->leafmap) (0.6.2)\n",
      "Requirement already satisfied: colorama in c:\\users\\raina\\appdata\\local\\packages\\pythonsoftwarefoundation.python.3.11_qbz5n2kfra8p0\\localcache\\local-packages\\python311\\site-packages (from ipython>=4.0.0->ipywidgets>=7.6.0->leafmap) (0.4.6)\n",
      "Requirement already satisfied: MarkupSafe>=2.0 in c:\\users\\raina\\appdata\\local\\packages\\pythonsoftwarefoundation.python.3.11_qbz5n2kfra8p0\\localcache\\local-packages\\python311\\site-packages (from jinja2>=2.9->folium>=0.14.0->leafmap) (2.1.3)\n",
      "Requirement already satisfied: jsonschema~=4.18 in c:\\users\\raina\\appdata\\local\\packages\\pythonsoftwarefoundation.python.3.11_qbz5n2kfra8p0\\localcache\\local-packages\\python311\\site-packages (from pystac[validation]>=1.10.0->pystac-client>=0.8.2->leafmap) (4.19.0)\n",
      "Requirement already satisfied: six>=1.5 in c:\\users\\raina\\appdata\\local\\packages\\pythonsoftwarefoundation.python.3.11_qbz5n2kfra8p0\\localcache\\local-packages\\python311\\site-packages (from python-dateutil>=2.7->matplotlib>=3.7.1->leafmap) (1.16.0)\n",
      "Requirement already satisfied: charset-normalizer<4,>=2 in c:\\users\\raina\\appdata\\local\\packages\\pythonsoftwarefoundation.python.3.11_qbz5n2kfra8p0\\localcache\\local-packages\\python311\\site-packages (from requests->folium>=0.14.0->leafmap) (3.2.0)\n",
      "Requirement already satisfied: idna<4,>=2.5 in c:\\users\\raina\\appdata\\local\\packages\\pythonsoftwarefoundation.python.3.11_qbz5n2kfra8p0\\localcache\\local-packages\\python311\\site-packages (from requests->folium>=0.14.0->leafmap) (3.4)\n",
      "Requirement already satisfied: urllib3<3,>=1.21.1 in c:\\users\\raina\\appdata\\local\\packages\\pythonsoftwarefoundation.python.3.11_qbz5n2kfra8p0\\localcache\\local-packages\\python311\\site-packages (from requests->folium>=0.14.0->leafmap) (2.0.4)\n",
      "Requirement already satisfied: certifi>=2017.4.17 in c:\\users\\raina\\appdata\\local\\packages\\pythonsoftwarefoundation.python.3.11_qbz5n2kfra8p0\\localcache\\local-packages\\python311\\site-packages (from requests->folium>=0.14.0->leafmap) (2024.7.4)\n",
      "Requirement already satisfied: notebook>=4.4.1 in c:\\users\\raina\\appdata\\local\\packages\\pythonsoftwarefoundation.python.3.11_qbz5n2kfra8p0\\localcache\\local-packages\\python311\\site-packages (from widgetsnbextension~=3.6.8->ipywidgets>=7.6.0->leafmap) (7.0.2)\n",
      "Requirement already satisfied: soupsieve>1.2 in c:\\users\\raina\\appdata\\local\\packages\\pythonsoftwarefoundation.python.3.11_qbz5n2kfra8p0\\localcache\\local-packages\\python311\\site-packages (from beautifulsoup4->gdown>=5.1.0->leafmap) (2.4.1)\n",
      "Requirement already satisfied: PySocks!=1.5.7,>=1.5.6 in c:\\users\\raina\\appdata\\local\\packages\\pythonsoftwarefoundation.python.3.11_qbz5n2kfra8p0\\localcache\\local-packages\\python311\\site-packages (from requests[socks]->gdown>=5.1.0->leafmap) (1.7.1)\n",
      "Requirement already satisfied: Click>=6.0 in c:\\users\\raina\\appdata\\local\\packages\\pythonsoftwarefoundation.python.3.11_qbz5n2kfra8p0\\localcache\\local-packages\\python311\\site-packages (from whitebox->whiteboxgui>=2.3.0->leafmap) (8.1.7)\n",
      "Requirement already satisfied: parso<0.9.0,>=0.8.3 in c:\\users\\raina\\appdata\\local\\packages\\pythonsoftwarefoundation.python.3.11_qbz5n2kfra8p0\\localcache\\local-packages\\python311\\site-packages (from jedi>=0.16->ipython>=4.0.0->ipywidgets>=7.6.0->leafmap) (0.8.3)\n",
      "Requirement already satisfied: attrs>=22.2.0 in c:\\users\\raina\\appdata\\local\\packages\\pythonsoftwarefoundation.python.3.11_qbz5n2kfra8p0\\localcache\\local-packages\\python311\\site-packages (from jsonschema~=4.18->pystac[validation]>=1.10.0->pystac-client>=0.8.2->leafmap) (23.1.0)\n",
      "Requirement already satisfied: jsonschema-specifications>=2023.03.6 in c:\\users\\raina\\appdata\\local\\packages\\pythonsoftwarefoundation.python.3.11_qbz5n2kfra8p0\\localcache\\local-packages\\python311\\site-packages (from jsonschema~=4.18->pystac[validation]>=1.10.0->pystac-client>=0.8.2->leafmap) (2023.7.1)\n",
      "Requirement already satisfied: referencing>=0.28.4 in c:\\users\\raina\\appdata\\local\\packages\\pythonsoftwarefoundation.python.3.11_qbz5n2kfra8p0\\localcache\\local-packages\\python311\\site-packages (from jsonschema~=4.18->pystac[validation]>=1.10.0->pystac-client>=0.8.2->leafmap) (0.30.2)\n",
      "Requirement already satisfied: rpds-py>=0.7.1 in c:\\users\\raina\\appdata\\local\\packages\\pythonsoftwarefoundation.python.3.11_qbz5n2kfra8p0\\localcache\\local-packages\\python311\\site-packages (from jsonschema~=4.18->pystac[validation]>=1.10.0->pystac-client>=0.8.2->leafmap) (0.9.2)\n",
      "Requirement already satisfied: jupyter-server<3,>=2.4.0 in c:\\users\\raina\\appdata\\local\\packages\\pythonsoftwarefoundation.python.3.11_qbz5n2kfra8p0\\localcache\\local-packages\\python311\\site-packages (from notebook>=4.4.1->widgetsnbextension~=3.6.8->ipywidgets>=7.6.0->leafmap) (2.7.2)\n",
      "Requirement already satisfied: jupyterlab-server<3,>=2.22.1 in c:\\users\\raina\\appdata\\local\\packages\\pythonsoftwarefoundation.python.3.11_qbz5n2kfra8p0\\localcache\\local-packages\\python311\\site-packages (from notebook>=4.4.1->widgetsnbextension~=3.6.8->ipywidgets>=7.6.0->leafmap) (2.24.0)\n",
      "Requirement already satisfied: jupyterlab<5,>=4.0.2 in c:\\users\\raina\\appdata\\local\\packages\\pythonsoftwarefoundation.python.3.11_qbz5n2kfra8p0\\localcache\\local-packages\\python311\\site-packages (from notebook>=4.4.1->widgetsnbextension~=3.6.8->ipywidgets>=7.6.0->leafmap) (4.0.5)\n",
      "Requirement already satisfied: notebook-shim<0.3,>=0.2 in c:\\users\\raina\\appdata\\local\\packages\\pythonsoftwarefoundation.python.3.11_qbz5n2kfra8p0\\localcache\\local-packages\\python311\\site-packages (from notebook>=4.4.1->widgetsnbextension~=3.6.8->ipywidgets>=7.6.0->leafmap) (0.2.3)\n",
      "Requirement already satisfied: tornado>=6.2.0 in c:\\users\\raina\\appdata\\local\\packages\\pythonsoftwarefoundation.python.3.11_qbz5n2kfra8p0\\localcache\\local-packages\\python311\\site-packages (from notebook>=4.4.1->widgetsnbextension~=3.6.8->ipywidgets>=7.6.0->leafmap) (6.3.3)\n",
      "Requirement already satisfied: wcwidth in c:\\users\\raina\\appdata\\local\\packages\\pythonsoftwarefoundation.python.3.11_qbz5n2kfra8p0\\localcache\\local-packages\\python311\\site-packages (from prompt-toolkit!=3.0.37,<3.1.0,>=3.0.30->ipython>=4.0.0->ipywidgets>=7.6.0->leafmap) (0.2.6)\n",
      "Requirement already satisfied: executing>=1.2.0 in c:\\users\\raina\\appdata\\local\\packages\\pythonsoftwarefoundation.python.3.11_qbz5n2kfra8p0\\localcache\\local-packages\\python311\\site-packages (from stack-data->ipython>=4.0.0->ipywidgets>=7.6.0->leafmap) (1.2.0)\n",
      "Requirement already satisfied: asttokens>=2.1.0 in c:\\users\\raina\\appdata\\local\\packages\\pythonsoftwarefoundation.python.3.11_qbz5n2kfra8p0\\localcache\\local-packages\\python311\\site-packages (from stack-data->ipython>=4.0.0->ipywidgets>=7.6.0->leafmap) (2.2.1)\n",
      "Requirement already satisfied: pure-eval in c:\\users\\raina\\appdata\\local\\packages\\pythonsoftwarefoundation.python.3.11_qbz5n2kfra8p0\\localcache\\local-packages\\python311\\site-packages (from stack-data->ipython>=4.0.0->ipywidgets>=7.6.0->leafmap) (0.2.2)\n",
      "Requirement already satisfied: anyio>=3.1.0 in c:\\users\\raina\\appdata\\local\\packages\\pythonsoftwarefoundation.python.3.11_qbz5n2kfra8p0\\localcache\\local-packages\\python311\\site-packages (from jupyter-server<3,>=2.4.0->notebook>=4.4.1->widgetsnbextension~=3.6.8->ipywidgets>=7.6.0->leafmap) (3.7.1)\n",
      "Requirement already satisfied: argon2-cffi in c:\\users\\raina\\appdata\\local\\packages\\pythonsoftwarefoundation.python.3.11_qbz5n2kfra8p0\\localcache\\local-packages\\python311\\site-packages (from jupyter-server<3,>=2.4.0->notebook>=4.4.1->widgetsnbextension~=3.6.8->ipywidgets>=7.6.0->leafmap) (23.1.0)\n",
      "Requirement already satisfied: jupyter-client>=7.4.4 in c:\\users\\raina\\appdata\\local\\packages\\pythonsoftwarefoundation.python.3.11_qbz5n2kfra8p0\\localcache\\local-packages\\python311\\site-packages (from jupyter-server<3,>=2.4.0->notebook>=4.4.1->widgetsnbextension~=3.6.8->ipywidgets>=7.6.0->leafmap) (8.3.0)\n",
      "Requirement already satisfied: jupyter-core!=5.0.*,>=4.12 in c:\\users\\raina\\appdata\\local\\packages\\pythonsoftwarefoundation.python.3.11_qbz5n2kfra8p0\\localcache\\local-packages\\python311\\site-packages (from jupyter-server<3,>=2.4.0->notebook>=4.4.1->widgetsnbextension~=3.6.8->ipywidgets>=7.6.0->leafmap) (5.3.1)\n",
      "Requirement already satisfied: jupyter-events>=0.6.0 in c:\\users\\raina\\appdata\\local\\packages\\pythonsoftwarefoundation.python.3.11_qbz5n2kfra8p0\\localcache\\local-packages\\python311\\site-packages (from jupyter-server<3,>=2.4.0->notebook>=4.4.1->widgetsnbextension~=3.6.8->ipywidgets>=7.6.0->leafmap) (0.7.0)\n",
      "Requirement already satisfied: jupyter-server-terminals in c:\\users\\raina\\appdata\\local\\packages\\pythonsoftwarefoundation.python.3.11_qbz5n2kfra8p0\\localcache\\local-packages\\python311\\site-packages (from jupyter-server<3,>=2.4.0->notebook>=4.4.1->widgetsnbextension~=3.6.8->ipywidgets>=7.6.0->leafmap) (0.4.4)\n",
      "Requirement already satisfied: nbconvert>=6.4.4 in c:\\users\\raina\\appdata\\local\\packages\\pythonsoftwarefoundation.python.3.11_qbz5n2kfra8p0\\localcache\\local-packages\\python311\\site-packages (from jupyter-server<3,>=2.4.0->notebook>=4.4.1->widgetsnbextension~=3.6.8->ipywidgets>=7.6.0->leafmap) (7.7.4)\n",
      "Requirement already satisfied: nbformat>=5.3.0 in c:\\users\\raina\\appdata\\local\\packages\\pythonsoftwarefoundation.python.3.11_qbz5n2kfra8p0\\localcache\\local-packages\\python311\\site-packages (from jupyter-server<3,>=2.4.0->notebook>=4.4.1->widgetsnbextension~=3.6.8->ipywidgets>=7.6.0->leafmap) (5.9.2)\n",
      "Requirement already satisfied: overrides in c:\\users\\raina\\appdata\\local\\packages\\pythonsoftwarefoundation.python.3.11_qbz5n2kfra8p0\\localcache\\local-packages\\python311\\site-packages (from jupyter-server<3,>=2.4.0->notebook>=4.4.1->widgetsnbextension~=3.6.8->ipywidgets>=7.6.0->leafmap) (7.4.0)\n",
      "Requirement already satisfied: prometheus-client in c:\\users\\raina\\appdata\\local\\packages\\pythonsoftwarefoundation.python.3.11_qbz5n2kfra8p0\\localcache\\local-packages\\python311\\site-packages (from jupyter-server<3,>=2.4.0->notebook>=4.4.1->widgetsnbextension~=3.6.8->ipywidgets>=7.6.0->leafmap) (0.17.1)\n",
      "Requirement already satisfied: pywinpty in c:\\users\\raina\\appdata\\local\\packages\\pythonsoftwarefoundation.python.3.11_qbz5n2kfra8p0\\localcache\\local-packages\\python311\\site-packages (from jupyter-server<3,>=2.4.0->notebook>=4.4.1->widgetsnbextension~=3.6.8->ipywidgets>=7.6.0->leafmap) (2.0.11)\n",
      "Requirement already satisfied: pyzmq>=24 in c:\\users\\raina\\appdata\\local\\packages\\pythonsoftwarefoundation.python.3.11_qbz5n2kfra8p0\\localcache\\local-packages\\python311\\site-packages (from jupyter-server<3,>=2.4.0->notebook>=4.4.1->widgetsnbextension~=3.6.8->ipywidgets>=7.6.0->leafmap) (25.1.1)\n",
      "Requirement already satisfied: send2trash>=1.8.2 in c:\\users\\raina\\appdata\\local\\packages\\pythonsoftwarefoundation.python.3.11_qbz5n2kfra8p0\\localcache\\local-packages\\python311\\site-packages (from jupyter-server<3,>=2.4.0->notebook>=4.4.1->widgetsnbextension~=3.6.8->ipywidgets>=7.6.0->leafmap) (1.8.2)\n",
      "Requirement already satisfied: terminado>=0.8.3 in c:\\users\\raina\\appdata\\local\\packages\\pythonsoftwarefoundation.python.3.11_qbz5n2kfra8p0\\localcache\\local-packages\\python311\\site-packages (from jupyter-server<3,>=2.4.0->notebook>=4.4.1->widgetsnbextension~=3.6.8->ipywidgets>=7.6.0->leafmap) (0.17.1)\n",
      "Requirement already satisfied: websocket-client in c:\\users\\raina\\appdata\\local\\packages\\pythonsoftwarefoundation.python.3.11_qbz5n2kfra8p0\\localcache\\local-packages\\python311\\site-packages (from jupyter-server<3,>=2.4.0->notebook>=4.4.1->widgetsnbextension~=3.6.8->ipywidgets>=7.6.0->leafmap) (1.6.1)\n",
      "Requirement already satisfied: async-lru>=1.0.0 in c:\\users\\raina\\appdata\\local\\packages\\pythonsoftwarefoundation.python.3.11_qbz5n2kfra8p0\\localcache\\local-packages\\python311\\site-packages (from jupyterlab<5,>=4.0.2->notebook>=4.4.1->widgetsnbextension~=3.6.8->ipywidgets>=7.6.0->leafmap) (2.0.4)\n",
      "Requirement already satisfied: ipykernel in c:\\users\\raina\\appdata\\local\\packages\\pythonsoftwarefoundation.python.3.11_qbz5n2kfra8p0\\localcache\\local-packages\\python311\\site-packages (from jupyterlab<5,>=4.0.2->notebook>=4.4.1->widgetsnbextension~=3.6.8->ipywidgets>=7.6.0->leafmap) (6.25.1)\n",
      "Requirement already satisfied: jupyter-lsp>=2.0.0 in c:\\users\\raina\\appdata\\local\\packages\\pythonsoftwarefoundation.python.3.11_qbz5n2kfra8p0\\localcache\\local-packages\\python311\\site-packages (from jupyterlab<5,>=4.0.2->notebook>=4.4.1->widgetsnbextension~=3.6.8->ipywidgets>=7.6.0->leafmap) (2.2.0)\n",
      "Requirement already satisfied: babel>=2.10 in c:\\users\\raina\\appdata\\local\\packages\\pythonsoftwarefoundation.python.3.11_qbz5n2kfra8p0\\localcache\\local-packages\\python311\\site-packages (from jupyterlab-server<3,>=2.22.1->notebook>=4.4.1->widgetsnbextension~=3.6.8->ipywidgets>=7.6.0->leafmap) (2.12.1)\n",
      "Requirement already satisfied: json5>=0.9.0 in c:\\users\\raina\\appdata\\local\\packages\\pythonsoftwarefoundation.python.3.11_qbz5n2kfra8p0\\localcache\\local-packages\\python311\\site-packages (from jupyterlab-server<3,>=2.22.1->notebook>=4.4.1->widgetsnbextension~=3.6.8->ipywidgets>=7.6.0->leafmap) (0.9.14)\n",
      "Requirement already satisfied: sniffio>=1.1 in c:\\users\\raina\\appdata\\local\\packages\\pythonsoftwarefoundation.python.3.11_qbz5n2kfra8p0\\localcache\\local-packages\\python311\\site-packages (from anyio>=3.1.0->jupyter-server<3,>=2.4.0->notebook>=4.4.1->widgetsnbextension~=3.6.8->ipywidgets>=7.6.0->leafmap) (1.3.0)\n",
      "Requirement already satisfied: platformdirs>=2.5 in c:\\users\\raina\\appdata\\local\\packages\\pythonsoftwarefoundation.python.3.11_qbz5n2kfra8p0\\localcache\\local-packages\\python311\\site-packages (from jupyter-core!=5.0.*,>=4.12->jupyter-server<3,>=2.4.0->notebook>=4.4.1->widgetsnbextension~=3.6.8->ipywidgets>=7.6.0->leafmap) (3.10.0)\n",
      "Requirement already satisfied: pywin32>=300 in c:\\users\\raina\\appdata\\local\\packages\\pythonsoftwarefoundation.python.3.11_qbz5n2kfra8p0\\localcache\\local-packages\\python311\\site-packages (from jupyter-core!=5.0.*,>=4.12->jupyter-server<3,>=2.4.0->notebook>=4.4.1->widgetsnbextension~=3.6.8->ipywidgets>=7.6.0->leafmap) (306)\n",
      "Requirement already satisfied: python-json-logger>=2.0.4 in c:\\users\\raina\\appdata\\local\\packages\\pythonsoftwarefoundation.python.3.11_qbz5n2kfra8p0\\localcache\\local-packages\\python311\\site-packages (from jupyter-events>=0.6.0->jupyter-server<3,>=2.4.0->notebook>=4.4.1->widgetsnbextension~=3.6.8->ipywidgets>=7.6.0->leafmap) (2.0.7)\n",
      "Requirement already satisfied: pyyaml>=5.3 in c:\\users\\raina\\appdata\\local\\packages\\pythonsoftwarefoundation.python.3.11_qbz5n2kfra8p0\\localcache\\local-packages\\python311\\site-packages (from jupyter-events>=0.6.0->jupyter-server<3,>=2.4.0->notebook>=4.4.1->widgetsnbextension~=3.6.8->ipywidgets>=7.6.0->leafmap) (6.0.1)\n",
      "Requirement already satisfied: rfc3339-validator in c:\\users\\raina\\appdata\\local\\packages\\pythonsoftwarefoundation.python.3.11_qbz5n2kfra8p0\\localcache\\local-packages\\python311\\site-packages (from jupyter-events>=0.6.0->jupyter-server<3,>=2.4.0->notebook>=4.4.1->widgetsnbextension~=3.6.8->ipywidgets>=7.6.0->leafmap) (0.1.4)\n",
      "Requirement already satisfied: rfc3986-validator>=0.1.1 in c:\\users\\raina\\appdata\\local\\packages\\pythonsoftwarefoundation.python.3.11_qbz5n2kfra8p0\\localcache\\local-packages\\python311\\site-packages (from jupyter-events>=0.6.0->jupyter-server<3,>=2.4.0->notebook>=4.4.1->widgetsnbextension~=3.6.8->ipywidgets>=7.6.0->leafmap) (0.1.1)\n",
      "Requirement already satisfied: bleach!=5.0.0 in c:\\users\\raina\\appdata\\local\\packages\\pythonsoftwarefoundation.python.3.11_qbz5n2kfra8p0\\localcache\\local-packages\\python311\\site-packages (from nbconvert>=6.4.4->jupyter-server<3,>=2.4.0->notebook>=4.4.1->widgetsnbextension~=3.6.8->ipywidgets>=7.6.0->leafmap) (6.0.0)\n",
      "Requirement already satisfied: defusedxml in c:\\users\\raina\\appdata\\local\\packages\\pythonsoftwarefoundation.python.3.11_qbz5n2kfra8p0\\localcache\\local-packages\\python311\\site-packages (from nbconvert>=6.4.4->jupyter-server<3,>=2.4.0->notebook>=4.4.1->widgetsnbextension~=3.6.8->ipywidgets>=7.6.0->leafmap) (0.7.1)\n",
      "Requirement already satisfied: jupyterlab-pygments in c:\\users\\raina\\appdata\\local\\packages\\pythonsoftwarefoundation.python.3.11_qbz5n2kfra8p0\\localcache\\local-packages\\python311\\site-packages (from nbconvert>=6.4.4->jupyter-server<3,>=2.4.0->notebook>=4.4.1->widgetsnbextension~=3.6.8->ipywidgets>=7.6.0->leafmap) (0.2.2)\n",
      "Requirement already satisfied: mistune<4,>=2.0.3 in c:\\users\\raina\\appdata\\local\\packages\\pythonsoftwarefoundation.python.3.11_qbz5n2kfra8p0\\localcache\\local-packages\\python311\\site-packages (from nbconvert>=6.4.4->jupyter-server<3,>=2.4.0->notebook>=4.4.1->widgetsnbextension~=3.6.8->ipywidgets>=7.6.0->leafmap) (3.0.1)\n",
      "Requirement already satisfied: nbclient>=0.5.0 in c:\\users\\raina\\appdata\\local\\packages\\pythonsoftwarefoundation.python.3.11_qbz5n2kfra8p0\\localcache\\local-packages\\python311\\site-packages (from nbconvert>=6.4.4->jupyter-server<3,>=2.4.0->notebook>=4.4.1->widgetsnbextension~=3.6.8->ipywidgets>=7.6.0->leafmap) (0.8.0)\n",
      "Requirement already satisfied: pandocfilters>=1.4.1 in c:\\users\\raina\\appdata\\local\\packages\\pythonsoftwarefoundation.python.3.11_qbz5n2kfra8p0\\localcache\\local-packages\\python311\\site-packages (from nbconvert>=6.4.4->jupyter-server<3,>=2.4.0->notebook>=4.4.1->widgetsnbextension~=3.6.8->ipywidgets>=7.6.0->leafmap) (1.5.0)\n",
      "Requirement already satisfied: tinycss2 in c:\\users\\raina\\appdata\\local\\packages\\pythonsoftwarefoundation.python.3.11_qbz5n2kfra8p0\\localcache\\local-packages\\python311\\site-packages (from nbconvert>=6.4.4->jupyter-server<3,>=2.4.0->notebook>=4.4.1->widgetsnbextension~=3.6.8->ipywidgets>=7.6.0->leafmap) (1.2.1)\n",
      "Requirement already satisfied: fastjsonschema in c:\\users\\raina\\appdata\\local\\packages\\pythonsoftwarefoundation.python.3.11_qbz5n2kfra8p0\\localcache\\local-packages\\python311\\site-packages (from nbformat>=5.3.0->jupyter-server<3,>=2.4.0->notebook>=4.4.1->widgetsnbextension~=3.6.8->ipywidgets>=7.6.0->leafmap) (2.18.0)\n",
      "Requirement already satisfied: argon2-cffi-bindings in c:\\users\\raina\\appdata\\local\\packages\\pythonsoftwarefoundation.python.3.11_qbz5n2kfra8p0\\localcache\\local-packages\\python311\\site-packages (from argon2-cffi->jupyter-server<3,>=2.4.0->notebook>=4.4.1->widgetsnbextension~=3.6.8->ipywidgets>=7.6.0->leafmap) (21.2.0)\n",
      "Requirement already satisfied: debugpy>=1.6.5 in c:\\users\\raina\\appdata\\local\\packages\\pythonsoftwarefoundation.python.3.11_qbz5n2kfra8p0\\localcache\\local-packages\\python311\\site-packages (from ipykernel->jupyterlab<5,>=4.0.2->notebook>=4.4.1->widgetsnbextension~=3.6.8->ipywidgets>=7.6.0->leafmap) (1.6.7.post1)\n",
      "Requirement already satisfied: nest-asyncio in c:\\users\\raina\\appdata\\local\\packages\\pythonsoftwarefoundation.python.3.11_qbz5n2kfra8p0\\localcache\\local-packages\\python311\\site-packages (from ipykernel->jupyterlab<5,>=4.0.2->notebook>=4.4.1->widgetsnbextension~=3.6.8->ipywidgets>=7.6.0->leafmap) (1.5.7)\n",
      "Requirement already satisfied: psutil in c:\\users\\raina\\appdata\\local\\packages\\pythonsoftwarefoundation.python.3.11_qbz5n2kfra8p0\\localcache\\local-packages\\python311\\site-packages (from ipykernel->jupyterlab<5,>=4.0.2->notebook>=4.4.1->widgetsnbextension~=3.6.8->ipywidgets>=7.6.0->leafmap) (5.9.5)\n",
      "Requirement already satisfied: webencodings in c:\\users\\raina\\appdata\\local\\packages\\pythonsoftwarefoundation.python.3.11_qbz5n2kfra8p0\\localcache\\local-packages\\python311\\site-packages (from bleach!=5.0.0->nbconvert>=6.4.4->jupyter-server<3,>=2.4.0->notebook>=4.4.1->widgetsnbextension~=3.6.8->ipywidgets>=7.6.0->leafmap) (0.5.1)\n",
      "Requirement already satisfied: fqdn in c:\\users\\raina\\appdata\\local\\packages\\pythonsoftwarefoundation.python.3.11_qbz5n2kfra8p0\\localcache\\local-packages\\python311\\site-packages (from jsonschema[format-nongpl]>=4.18.0->jupyter-events>=0.6.0->jupyter-server<3,>=2.4.0->notebook>=4.4.1->widgetsnbextension~=3.6.8->ipywidgets>=7.6.0->leafmap) (1.5.1)\n",
      "Requirement already satisfied: isoduration in c:\\users\\raina\\appdata\\local\\packages\\pythonsoftwarefoundation.python.3.11_qbz5n2kfra8p0\\localcache\\local-packages\\python311\\site-packages (from jsonschema[format-nongpl]>=4.18.0->jupyter-events>=0.6.0->jupyter-server<3,>=2.4.0->notebook>=4.4.1->widgetsnbextension~=3.6.8->ipywidgets>=7.6.0->leafmap) (20.11.0)\n",
      "Requirement already satisfied: jsonpointer>1.13 in c:\\users\\raina\\appdata\\local\\packages\\pythonsoftwarefoundation.python.3.11_qbz5n2kfra8p0\\localcache\\local-packages\\python311\\site-packages (from jsonschema[format-nongpl]>=4.18.0->jupyter-events>=0.6.0->jupyter-server<3,>=2.4.0->notebook>=4.4.1->widgetsnbextension~=3.6.8->ipywidgets>=7.6.0->leafmap) (2.4)\n",
      "Requirement already satisfied: uri-template in c:\\users\\raina\\appdata\\local\\packages\\pythonsoftwarefoundation.python.3.11_qbz5n2kfra8p0\\localcache\\local-packages\\python311\\site-packages (from jsonschema[format-nongpl]>=4.18.0->jupyter-events>=0.6.0->jupyter-server<3,>=2.4.0->notebook>=4.4.1->widgetsnbextension~=3.6.8->ipywidgets>=7.6.0->leafmap) (1.3.0)\n",
      "Requirement already satisfied: webcolors>=1.11 in c:\\users\\raina\\appdata\\local\\packages\\pythonsoftwarefoundation.python.3.11_qbz5n2kfra8p0\\localcache\\local-packages\\python311\\site-packages (from jsonschema[format-nongpl]>=4.18.0->jupyter-events>=0.6.0->jupyter-server<3,>=2.4.0->notebook>=4.4.1->widgetsnbextension~=3.6.8->ipywidgets>=7.6.0->leafmap) (1.13)\n",
      "Requirement already satisfied: cffi>=1.0.1 in c:\\users\\raina\\appdata\\local\\packages\\pythonsoftwarefoundation.python.3.11_qbz5n2kfra8p0\\localcache\\local-packages\\python311\\site-packages (from argon2-cffi-bindings->argon2-cffi->jupyter-server<3,>=2.4.0->notebook>=4.4.1->widgetsnbextension~=3.6.8->ipywidgets>=7.6.0->leafmap) (1.15.1)\n",
      "Requirement already satisfied: pycparser in c:\\users\\raina\\appdata\\local\\packages\\pythonsoftwarefoundation.python.3.11_qbz5n2kfra8p0\\localcache\\local-packages\\python311\\site-packages (from cffi>=1.0.1->argon2-cffi-bindings->argon2-cffi->jupyter-server<3,>=2.4.0->notebook>=4.4.1->widgetsnbextension~=3.6.8->ipywidgets>=7.6.0->leafmap) (2.21)\n",
      "Requirement already satisfied: arrow>=0.15.0 in c:\\users\\raina\\appdata\\local\\packages\\pythonsoftwarefoundation.python.3.11_qbz5n2kfra8p0\\localcache\\local-packages\\python311\\site-packages (from isoduration->jsonschema[format-nongpl]>=4.18.0->jupyter-events>=0.6.0->jupyter-server<3,>=2.4.0->notebook>=4.4.1->widgetsnbextension~=3.6.8->ipywidgets>=7.6.0->leafmap) (1.2.3)\n",
      "Note: you may need to restart the kernel to use updated packages.\n",
      "Requirement already satisfied: keplergl in c:\\users\\raina\\appdata\\local\\packages\\pythonsoftwarefoundation.python.3.11_qbz5n2kfra8p0\\localcache\\local-packages\\python311\\site-packages (0.3.2)\n",
      "Requirement already satisfied: ipywidgets<8,>=7.0.0 in c:\\users\\raina\\appdata\\local\\packages\\pythonsoftwarefoundation.python.3.11_qbz5n2kfra8p0\\localcache\\local-packages\\python311\\site-packages (from keplergl) (7.8.3)\n",
      "Requirement already satisfied: traittypes>=0.2.1 in c:\\users\\raina\\appdata\\local\\packages\\pythonsoftwarefoundation.python.3.11_qbz5n2kfra8p0\\localcache\\local-packages\\python311\\site-packages (from keplergl) (0.2.1)\n",
      "Requirement already satisfied: geopandas>=0.5.0 in c:\\users\\raina\\appdata\\local\\packages\\pythonsoftwarefoundation.python.3.11_qbz5n2kfra8p0\\localcache\\local-packages\\python311\\site-packages (from keplergl) (1.0.1)\n",
      "Requirement already satisfied: pandas>=0.23.0 in c:\\users\\raina\\appdata\\local\\packages\\pythonsoftwarefoundation.python.3.11_qbz5n2kfra8p0\\localcache\\local-packages\\python311\\site-packages (from keplergl) (2.2.2)\n",
      "Requirement already satisfied: Shapely>=1.6.4.post2 in c:\\users\\raina\\appdata\\local\\packages\\pythonsoftwarefoundation.python.3.11_qbz5n2kfra8p0\\localcache\\local-packages\\python311\\site-packages (from keplergl) (2.0.5)\n",
      "Requirement already satisfied: numpy>=1.22 in c:\\users\\raina\\appdata\\local\\packages\\pythonsoftwarefoundation.python.3.11_qbz5n2kfra8p0\\localcache\\local-packages\\python311\\site-packages (from geopandas>=0.5.0->keplergl) (1.26.4)\n",
      "Requirement already satisfied: pyogrio>=0.7.2 in c:\\users\\raina\\appdata\\local\\packages\\pythonsoftwarefoundation.python.3.11_qbz5n2kfra8p0\\localcache\\local-packages\\python311\\site-packages (from geopandas>=0.5.0->keplergl) (0.9.0)\n",
      "Requirement already satisfied: packaging in c:\\users\\raina\\appdata\\local\\packages\\pythonsoftwarefoundation.python.3.11_qbz5n2kfra8p0\\localcache\\local-packages\\python311\\site-packages (from geopandas>=0.5.0->keplergl) (23.1)\n",
      "Requirement already satisfied: pyproj>=3.3.0 in c:\\users\\raina\\appdata\\local\\packages\\pythonsoftwarefoundation.python.3.11_qbz5n2kfra8p0\\localcache\\local-packages\\python311\\site-packages (from geopandas>=0.5.0->keplergl) (3.6.1)\n",
      "Requirement already satisfied: comm>=0.1.3 in c:\\users\\raina\\appdata\\local\\packages\\pythonsoftwarefoundation.python.3.11_qbz5n2kfra8p0\\localcache\\local-packages\\python311\\site-packages (from ipywidgets<8,>=7.0.0->keplergl) (0.1.4)\n",
      "Requirement already satisfied: ipython-genutils~=0.2.0 in c:\\users\\raina\\appdata\\local\\packages\\pythonsoftwarefoundation.python.3.11_qbz5n2kfra8p0\\localcache\\local-packages\\python311\\site-packages (from ipywidgets<8,>=7.0.0->keplergl) (0.2.0)\n",
      "Requirement already satisfied: traitlets>=4.3.1 in c:\\users\\raina\\appdata\\local\\packages\\pythonsoftwarefoundation.python.3.11_qbz5n2kfra8p0\\localcache\\local-packages\\python311\\site-packages (from ipywidgets<8,>=7.0.0->keplergl) (5.9.0)\n",
      "Requirement already satisfied: widgetsnbextension~=3.6.8 in c:\\users\\raina\\appdata\\local\\packages\\pythonsoftwarefoundation.python.3.11_qbz5n2kfra8p0\\localcache\\local-packages\\python311\\site-packages (from ipywidgets<8,>=7.0.0->keplergl) (3.6.8)\n",
      "Requirement already satisfied: ipython>=4.0.0 in c:\\users\\raina\\appdata\\local\\packages\\pythonsoftwarefoundation.python.3.11_qbz5n2kfra8p0\\localcache\\local-packages\\python311\\site-packages (from ipywidgets<8,>=7.0.0->keplergl) (8.14.0)\n",
      "Requirement already satisfied: jupyterlab-widgets<3,>=1.0.0 in c:\\users\\raina\\appdata\\local\\packages\\pythonsoftwarefoundation.python.3.11_qbz5n2kfra8p0\\localcache\\local-packages\\python311\\site-packages (from ipywidgets<8,>=7.0.0->keplergl) (1.1.9)\n",
      "Requirement already satisfied: python-dateutil>=2.8.2 in c:\\users\\raina\\appdata\\local\\packages\\pythonsoftwarefoundation.python.3.11_qbz5n2kfra8p0\\localcache\\local-packages\\python311\\site-packages (from pandas>=0.23.0->keplergl) (2.8.2)\n",
      "Requirement already satisfied: pytz>=2020.1 in c:\\users\\raina\\appdata\\local\\packages\\pythonsoftwarefoundation.python.3.11_qbz5n2kfra8p0\\localcache\\local-packages\\python311\\site-packages (from pandas>=0.23.0->keplergl) (2024.1)\n",
      "Requirement already satisfied: tzdata>=2022.7 in c:\\users\\raina\\appdata\\local\\packages\\pythonsoftwarefoundation.python.3.11_qbz5n2kfra8p0\\localcache\\local-packages\\python311\\site-packages (from pandas>=0.23.0->keplergl) (2024.1)\n",
      "Requirement already satisfied: backcall in c:\\users\\raina\\appdata\\local\\packages\\pythonsoftwarefoundation.python.3.11_qbz5n2kfra8p0\\localcache\\local-packages\\python311\\site-packages (from ipython>=4.0.0->ipywidgets<8,>=7.0.0->keplergl) (0.2.0)\n",
      "Requirement already satisfied: decorator in c:\\users\\raina\\appdata\\local\\packages\\pythonsoftwarefoundation.python.3.11_qbz5n2kfra8p0\\localcache\\local-packages\\python311\\site-packages (from ipython>=4.0.0->ipywidgets<8,>=7.0.0->keplergl) (5.1.1)\n",
      "Requirement already satisfied: jedi>=0.16 in c:\\users\\raina\\appdata\\local\\packages\\pythonsoftwarefoundation.python.3.11_qbz5n2kfra8p0\\localcache\\local-packages\\python311\\site-packages (from ipython>=4.0.0->ipywidgets<8,>=7.0.0->keplergl) (0.19.0)\n",
      "Requirement already satisfied: matplotlib-inline in c:\\users\\raina\\appdata\\local\\packages\\pythonsoftwarefoundation.python.3.11_qbz5n2kfra8p0\\localcache\\local-packages\\python311\\site-packages (from ipython>=4.0.0->ipywidgets<8,>=7.0.0->keplergl) (0.1.6)\n",
      "Requirement already satisfied: pickleshare in c:\\users\\raina\\appdata\\local\\packages\\pythonsoftwarefoundation.python.3.11_qbz5n2kfra8p0\\localcache\\local-packages\\python311\\site-packages (from ipython>=4.0.0->ipywidgets<8,>=7.0.0->keplergl) (0.7.5)\n",
      "Requirement already satisfied: prompt-toolkit!=3.0.37,<3.1.0,>=3.0.30 in c:\\users\\raina\\appdata\\local\\packages\\pythonsoftwarefoundation.python.3.11_qbz5n2kfra8p0\\localcache\\local-packages\\python311\\site-packages (from ipython>=4.0.0->ipywidgets<8,>=7.0.0->keplergl) (3.0.39)\n",
      "Requirement already satisfied: pygments>=2.4.0 in c:\\users\\raina\\appdata\\local\\packages\\pythonsoftwarefoundation.python.3.11_qbz5n2kfra8p0\\localcache\\local-packages\\python311\\site-packages (from ipython>=4.0.0->ipywidgets<8,>=7.0.0->keplergl) (2.16.1)\n",
      "Requirement already satisfied: stack-data in c:\\users\\raina\\appdata\\local\\packages\\pythonsoftwarefoundation.python.3.11_qbz5n2kfra8p0\\localcache\\local-packages\\python311\\site-packages (from ipython>=4.0.0->ipywidgets<8,>=7.0.0->keplergl) (0.6.2)\n",
      "Requirement already satisfied: colorama in c:\\users\\raina\\appdata\\local\\packages\\pythonsoftwarefoundation.python.3.11_qbz5n2kfra8p0\\localcache\\local-packages\\python311\\site-packages (from ipython>=4.0.0->ipywidgets<8,>=7.0.0->keplergl) (0.4.6)\n",
      "Requirement already satisfied: certifi in c:\\users\\raina\\appdata\\local\\packages\\pythonsoftwarefoundation.python.3.11_qbz5n2kfra8p0\\localcache\\local-packages\\python311\\site-packages (from pyogrio>=0.7.2->geopandas>=0.5.0->keplergl) (2024.7.4)\n",
      "Requirement already satisfied: six>=1.5 in c:\\users\\raina\\appdata\\local\\packages\\pythonsoftwarefoundation.python.3.11_qbz5n2kfra8p0\\localcache\\local-packages\\python311\\site-packages (from python-dateutil>=2.8.2->pandas>=0.23.0->keplergl) (1.16.0)\n",
      "Requirement already satisfied: notebook>=4.4.1 in c:\\users\\raina\\appdata\\local\\packages\\pythonsoftwarefoundation.python.3.11_qbz5n2kfra8p0\\localcache\\local-packages\\python311\\site-packages (from widgetsnbextension~=3.6.8->ipywidgets<8,>=7.0.0->keplergl) (7.0.2)\n",
      "Requirement already satisfied: parso<0.9.0,>=0.8.3 in c:\\users\\raina\\appdata\\local\\packages\\pythonsoftwarefoundation.python.3.11_qbz5n2kfra8p0\\localcache\\local-packages\\python311\\site-packages (from jedi>=0.16->ipython>=4.0.0->ipywidgets<8,>=7.0.0->keplergl) (0.8.3)\n",
      "Requirement already satisfied: jupyter-server<3,>=2.4.0 in c:\\users\\raina\\appdata\\local\\packages\\pythonsoftwarefoundation.python.3.11_qbz5n2kfra8p0\\localcache\\local-packages\\python311\\site-packages (from notebook>=4.4.1->widgetsnbextension~=3.6.8->ipywidgets<8,>=7.0.0->keplergl) (2.7.2)\n",
      "Requirement already satisfied: jupyterlab-server<3,>=2.22.1 in c:\\users\\raina\\appdata\\local\\packages\\pythonsoftwarefoundation.python.3.11_qbz5n2kfra8p0\\localcache\\local-packages\\python311\\site-packages (from notebook>=4.4.1->widgetsnbextension~=3.6.8->ipywidgets<8,>=7.0.0->keplergl) (2.24.0)\n",
      "Requirement already satisfied: jupyterlab<5,>=4.0.2 in c:\\users\\raina\\appdata\\local\\packages\\pythonsoftwarefoundation.python.3.11_qbz5n2kfra8p0\\localcache\\local-packages\\python311\\site-packages (from notebook>=4.4.1->widgetsnbextension~=3.6.8->ipywidgets<8,>=7.0.0->keplergl) (4.0.5)\n",
      "Requirement already satisfied: notebook-shim<0.3,>=0.2 in c:\\users\\raina\\appdata\\local\\packages\\pythonsoftwarefoundation.python.3.11_qbz5n2kfra8p0\\localcache\\local-packages\\python311\\site-packages (from notebook>=4.4.1->widgetsnbextension~=3.6.8->ipywidgets<8,>=7.0.0->keplergl) (0.2.3)\n",
      "Requirement already satisfied: tornado>=6.2.0 in c:\\users\\raina\\appdata\\local\\packages\\pythonsoftwarefoundation.python.3.11_qbz5n2kfra8p0\\localcache\\local-packages\\python311\\site-packages (from notebook>=4.4.1->widgetsnbextension~=3.6.8->ipywidgets<8,>=7.0.0->keplergl) (6.3.3)\n",
      "Requirement already satisfied: wcwidth in c:\\users\\raina\\appdata\\local\\packages\\pythonsoftwarefoundation.python.3.11_qbz5n2kfra8p0\\localcache\\local-packages\\python311\\site-packages (from prompt-toolkit!=3.0.37,<3.1.0,>=3.0.30->ipython>=4.0.0->ipywidgets<8,>=7.0.0->keplergl) (0.2.6)\n",
      "Requirement already satisfied: executing>=1.2.0 in c:\\users\\raina\\appdata\\local\\packages\\pythonsoftwarefoundation.python.3.11_qbz5n2kfra8p0\\localcache\\local-packages\\python311\\site-packages (from stack-data->ipython>=4.0.0->ipywidgets<8,>=7.0.0->keplergl) (1.2.0)\n",
      "Requirement already satisfied: asttokens>=2.1.0 in c:\\users\\raina\\appdata\\local\\packages\\pythonsoftwarefoundation.python.3.11_qbz5n2kfra8p0\\localcache\\local-packages\\python311\\site-packages (from stack-data->ipython>=4.0.0->ipywidgets<8,>=7.0.0->keplergl) (2.2.1)\n",
      "Requirement already satisfied: pure-eval in c:\\users\\raina\\appdata\\local\\packages\\pythonsoftwarefoundation.python.3.11_qbz5n2kfra8p0\\localcache\\local-packages\\python311\\site-packages (from stack-data->ipython>=4.0.0->ipywidgets<8,>=7.0.0->keplergl) (0.2.2)\n",
      "Requirement already satisfied: anyio>=3.1.0 in c:\\users\\raina\\appdata\\local\\packages\\pythonsoftwarefoundation.python.3.11_qbz5n2kfra8p0\\localcache\\local-packages\\python311\\site-packages (from jupyter-server<3,>=2.4.0->notebook>=4.4.1->widgetsnbextension~=3.6.8->ipywidgets<8,>=7.0.0->keplergl) (3.7.1)\n",
      "Requirement already satisfied: argon2-cffi in c:\\users\\raina\\appdata\\local\\packages\\pythonsoftwarefoundation.python.3.11_qbz5n2kfra8p0\\localcache\\local-packages\\python311\\site-packages (from jupyter-server<3,>=2.4.0->notebook>=4.4.1->widgetsnbextension~=3.6.8->ipywidgets<8,>=7.0.0->keplergl) (23.1.0)\n",
      "Requirement already satisfied: jinja2 in c:\\users\\raina\\appdata\\local\\packages\\pythonsoftwarefoundation.python.3.11_qbz5n2kfra8p0\\localcache\\local-packages\\python311\\site-packages (from jupyter-server<3,>=2.4.0->notebook>=4.4.1->widgetsnbextension~=3.6.8->ipywidgets<8,>=7.0.0->keplergl) (3.1.2)\n",
      "Requirement already satisfied: jupyter-client>=7.4.4 in c:\\users\\raina\\appdata\\local\\packages\\pythonsoftwarefoundation.python.3.11_qbz5n2kfra8p0\\localcache\\local-packages\\python311\\site-packages (from jupyter-server<3,>=2.4.0->notebook>=4.4.1->widgetsnbextension~=3.6.8->ipywidgets<8,>=7.0.0->keplergl) (8.3.0)\n",
      "Requirement already satisfied: jupyter-core!=5.0.*,>=4.12 in c:\\users\\raina\\appdata\\local\\packages\\pythonsoftwarefoundation.python.3.11_qbz5n2kfra8p0\\localcache\\local-packages\\python311\\site-packages (from jupyter-server<3,>=2.4.0->notebook>=4.4.1->widgetsnbextension~=3.6.8->ipywidgets<8,>=7.0.0->keplergl) (5.3.1)\n",
      "Requirement already satisfied: jupyter-events>=0.6.0 in c:\\users\\raina\\appdata\\local\\packages\\pythonsoftwarefoundation.python.3.11_qbz5n2kfra8p0\\localcache\\local-packages\\python311\\site-packages (from jupyter-server<3,>=2.4.0->notebook>=4.4.1->widgetsnbextension~=3.6.8->ipywidgets<8,>=7.0.0->keplergl) (0.7.0)\n",
      "Requirement already satisfied: jupyter-server-terminals in c:\\users\\raina\\appdata\\local\\packages\\pythonsoftwarefoundation.python.3.11_qbz5n2kfra8p0\\localcache\\local-packages\\python311\\site-packages (from jupyter-server<3,>=2.4.0->notebook>=4.4.1->widgetsnbextension~=3.6.8->ipywidgets<8,>=7.0.0->keplergl) (0.4.4)\n",
      "Requirement already satisfied: nbconvert>=6.4.4 in c:\\users\\raina\\appdata\\local\\packages\\pythonsoftwarefoundation.python.3.11_qbz5n2kfra8p0\\localcache\\local-packages\\python311\\site-packages (from jupyter-server<3,>=2.4.0->notebook>=4.4.1->widgetsnbextension~=3.6.8->ipywidgets<8,>=7.0.0->keplergl) (7.7.4)\n",
      "Requirement already satisfied: nbformat>=5.3.0 in c:\\users\\raina\\appdata\\local\\packages\\pythonsoftwarefoundation.python.3.11_qbz5n2kfra8p0\\localcache\\local-packages\\python311\\site-packages (from jupyter-server<3,>=2.4.0->notebook>=4.4.1->widgetsnbextension~=3.6.8->ipywidgets<8,>=7.0.0->keplergl) (5.9.2)\n",
      "Requirement already satisfied: overrides in c:\\users\\raina\\appdata\\local\\packages\\pythonsoftwarefoundation.python.3.11_qbz5n2kfra8p0\\localcache\\local-packages\\python311\\site-packages (from jupyter-server<3,>=2.4.0->notebook>=4.4.1->widgetsnbextension~=3.6.8->ipywidgets<8,>=7.0.0->keplergl) (7.4.0)\n",
      "Requirement already satisfied: prometheus-client in c:\\users\\raina\\appdata\\local\\packages\\pythonsoftwarefoundation.python.3.11_qbz5n2kfra8p0\\localcache\\local-packages\\python311\\site-packages (from jupyter-server<3,>=2.4.0->notebook>=4.4.1->widgetsnbextension~=3.6.8->ipywidgets<8,>=7.0.0->keplergl) (0.17.1)\n",
      "Requirement already satisfied: pywinpty in c:\\users\\raina\\appdata\\local\\packages\\pythonsoftwarefoundation.python.3.11_qbz5n2kfra8p0\\localcache\\local-packages\\python311\\site-packages (from jupyter-server<3,>=2.4.0->notebook>=4.4.1->widgetsnbextension~=3.6.8->ipywidgets<8,>=7.0.0->keplergl) (2.0.11)\n",
      "Requirement already satisfied: pyzmq>=24 in c:\\users\\raina\\appdata\\local\\packages\\pythonsoftwarefoundation.python.3.11_qbz5n2kfra8p0\\localcache\\local-packages\\python311\\site-packages (from jupyter-server<3,>=2.4.0->notebook>=4.4.1->widgetsnbextension~=3.6.8->ipywidgets<8,>=7.0.0->keplergl) (25.1.1)\n",
      "Requirement already satisfied: send2trash>=1.8.2 in c:\\users\\raina\\appdata\\local\\packages\\pythonsoftwarefoundation.python.3.11_qbz5n2kfra8p0\\localcache\\local-packages\\python311\\site-packages (from jupyter-server<3,>=2.4.0->notebook>=4.4.1->widgetsnbextension~=3.6.8->ipywidgets<8,>=7.0.0->keplergl) (1.8.2)\n",
      "Requirement already satisfied: terminado>=0.8.3 in c:\\users\\raina\\appdata\\local\\packages\\pythonsoftwarefoundation.python.3.11_qbz5n2kfra8p0\\localcache\\local-packages\\python311\\site-packages (from jupyter-server<3,>=2.4.0->notebook>=4.4.1->widgetsnbextension~=3.6.8->ipywidgets<8,>=7.0.0->keplergl) (0.17.1)\n",
      "Requirement already satisfied: websocket-client in c:\\users\\raina\\appdata\\local\\packages\\pythonsoftwarefoundation.python.3.11_qbz5n2kfra8p0\\localcache\\local-packages\\python311\\site-packages (from jupyter-server<3,>=2.4.0->notebook>=4.4.1->widgetsnbextension~=3.6.8->ipywidgets<8,>=7.0.0->keplergl) (1.6.1)\n",
      "Requirement already satisfied: async-lru>=1.0.0 in c:\\users\\raina\\appdata\\local\\packages\\pythonsoftwarefoundation.python.3.11_qbz5n2kfra8p0\\localcache\\local-packages\\python311\\site-packages (from jupyterlab<5,>=4.0.2->notebook>=4.4.1->widgetsnbextension~=3.6.8->ipywidgets<8,>=7.0.0->keplergl) (2.0.4)\n",
      "Requirement already satisfied: ipykernel in c:\\users\\raina\\appdata\\local\\packages\\pythonsoftwarefoundation.python.3.11_qbz5n2kfra8p0\\localcache\\local-packages\\python311\\site-packages (from jupyterlab<5,>=4.0.2->notebook>=4.4.1->widgetsnbextension~=3.6.8->ipywidgets<8,>=7.0.0->keplergl) (6.25.1)\n",
      "Requirement already satisfied: jupyter-lsp>=2.0.0 in c:\\users\\raina\\appdata\\local\\packages\\pythonsoftwarefoundation.python.3.11_qbz5n2kfra8p0\\localcache\\local-packages\\python311\\site-packages (from jupyterlab<5,>=4.0.2->notebook>=4.4.1->widgetsnbextension~=3.6.8->ipywidgets<8,>=7.0.0->keplergl) (2.2.0)\n",
      "Requirement already satisfied: babel>=2.10 in c:\\users\\raina\\appdata\\local\\packages\\pythonsoftwarefoundation.python.3.11_qbz5n2kfra8p0\\localcache\\local-packages\\python311\\site-packages (from jupyterlab-server<3,>=2.22.1->notebook>=4.4.1->widgetsnbextension~=3.6.8->ipywidgets<8,>=7.0.0->keplergl) (2.12.1)\n",
      "Requirement already satisfied: json5>=0.9.0 in c:\\users\\raina\\appdata\\local\\packages\\pythonsoftwarefoundation.python.3.11_qbz5n2kfra8p0\\localcache\\local-packages\\python311\\site-packages (from jupyterlab-server<3,>=2.22.1->notebook>=4.4.1->widgetsnbextension~=3.6.8->ipywidgets<8,>=7.0.0->keplergl) (0.9.14)\n",
      "Requirement already satisfied: jsonschema>=4.17.3 in c:\\users\\raina\\appdata\\local\\packages\\pythonsoftwarefoundation.python.3.11_qbz5n2kfra8p0\\localcache\\local-packages\\python311\\site-packages (from jupyterlab-server<3,>=2.22.1->notebook>=4.4.1->widgetsnbextension~=3.6.8->ipywidgets<8,>=7.0.0->keplergl) (4.19.0)\n",
      "Requirement already satisfied: requests>=2.28 in c:\\users\\raina\\appdata\\local\\packages\\pythonsoftwarefoundation.python.3.11_qbz5n2kfra8p0\\localcache\\local-packages\\python311\\site-packages (from jupyterlab-server<3,>=2.22.1->notebook>=4.4.1->widgetsnbextension~=3.6.8->ipywidgets<8,>=7.0.0->keplergl) (2.31.0)\n",
      "Requirement already satisfied: idna>=2.8 in c:\\users\\raina\\appdata\\local\\packages\\pythonsoftwarefoundation.python.3.11_qbz5n2kfra8p0\\localcache\\local-packages\\python311\\site-packages (from anyio>=3.1.0->jupyter-server<3,>=2.4.0->notebook>=4.4.1->widgetsnbextension~=3.6.8->ipywidgets<8,>=7.0.0->keplergl) (3.4)\n",
      "Requirement already satisfied: sniffio>=1.1 in c:\\users\\raina\\appdata\\local\\packages\\pythonsoftwarefoundation.python.3.11_qbz5n2kfra8p0\\localcache\\local-packages\\python311\\site-packages (from anyio>=3.1.0->jupyter-server<3,>=2.4.0->notebook>=4.4.1->widgetsnbextension~=3.6.8->ipywidgets<8,>=7.0.0->keplergl) (1.3.0)\n",
      "Requirement already satisfied: MarkupSafe>=2.0 in c:\\users\\raina\\appdata\\local\\packages\\pythonsoftwarefoundation.python.3.11_qbz5n2kfra8p0\\localcache\\local-packages\\python311\\site-packages (from jinja2->jupyter-server<3,>=2.4.0->notebook>=4.4.1->widgetsnbextension~=3.6.8->ipywidgets<8,>=7.0.0->keplergl) (2.1.3)\n",
      "Requirement already satisfied: attrs>=22.2.0 in c:\\users\\raina\\appdata\\local\\packages\\pythonsoftwarefoundation.python.3.11_qbz5n2kfra8p0\\localcache\\local-packages\\python311\\site-packages (from jsonschema>=4.17.3->jupyterlab-server<3,>=2.22.1->notebook>=4.4.1->widgetsnbextension~=3.6.8->ipywidgets<8,>=7.0.0->keplergl) (23.1.0)\n",
      "Requirement already satisfied: jsonschema-specifications>=2023.03.6 in c:\\users\\raina\\appdata\\local\\packages\\pythonsoftwarefoundation.python.3.11_qbz5n2kfra8p0\\localcache\\local-packages\\python311\\site-packages (from jsonschema>=4.17.3->jupyterlab-server<3,>=2.22.1->notebook>=4.4.1->widgetsnbextension~=3.6.8->ipywidgets<8,>=7.0.0->keplergl) (2023.7.1)\n",
      "Requirement already satisfied: referencing>=0.28.4 in c:\\users\\raina\\appdata\\local\\packages\\pythonsoftwarefoundation.python.3.11_qbz5n2kfra8p0\\localcache\\local-packages\\python311\\site-packages (from jsonschema>=4.17.3->jupyterlab-server<3,>=2.22.1->notebook>=4.4.1->widgetsnbextension~=3.6.8->ipywidgets<8,>=7.0.0->keplergl) (0.30.2)\n",
      "Requirement already satisfied: rpds-py>=0.7.1 in c:\\users\\raina\\appdata\\local\\packages\\pythonsoftwarefoundation.python.3.11_qbz5n2kfra8p0\\localcache\\local-packages\\python311\\site-packages (from jsonschema>=4.17.3->jupyterlab-server<3,>=2.22.1->notebook>=4.4.1->widgetsnbextension~=3.6.8->ipywidgets<8,>=7.0.0->keplergl) (0.9.2)\n",
      "Requirement already satisfied: platformdirs>=2.5 in c:\\users\\raina\\appdata\\local\\packages\\pythonsoftwarefoundation.python.3.11_qbz5n2kfra8p0\\localcache\\local-packages\\python311\\site-packages (from jupyter-core!=5.0.*,>=4.12->jupyter-server<3,>=2.4.0->notebook>=4.4.1->widgetsnbextension~=3.6.8->ipywidgets<8,>=7.0.0->keplergl) (3.10.0)\n",
      "Requirement already satisfied: pywin32>=300 in c:\\users\\raina\\appdata\\local\\packages\\pythonsoftwarefoundation.python.3.11_qbz5n2kfra8p0\\localcache\\local-packages\\python311\\site-packages (from jupyter-core!=5.0.*,>=4.12->jupyter-server<3,>=2.4.0->notebook>=4.4.1->widgetsnbextension~=3.6.8->ipywidgets<8,>=7.0.0->keplergl) (306)\n",
      "Requirement already satisfied: python-json-logger>=2.0.4 in c:\\users\\raina\\appdata\\local\\packages\\pythonsoftwarefoundation.python.3.11_qbz5n2kfra8p0\\localcache\\local-packages\\python311\\site-packages (from jupyter-events>=0.6.0->jupyter-server<3,>=2.4.0->notebook>=4.4.1->widgetsnbextension~=3.6.8->ipywidgets<8,>=7.0.0->keplergl) (2.0.7)\n",
      "Requirement already satisfied: pyyaml>=5.3 in c:\\users\\raina\\appdata\\local\\packages\\pythonsoftwarefoundation.python.3.11_qbz5n2kfra8p0\\localcache\\local-packages\\python311\\site-packages (from jupyter-events>=0.6.0->jupyter-server<3,>=2.4.0->notebook>=4.4.1->widgetsnbextension~=3.6.8->ipywidgets<8,>=7.0.0->keplergl) (6.0.1)\n",
      "Requirement already satisfied: rfc3339-validator in c:\\users\\raina\\appdata\\local\\packages\\pythonsoftwarefoundation.python.3.11_qbz5n2kfra8p0\\localcache\\local-packages\\python311\\site-packages (from jupyter-events>=0.6.0->jupyter-server<3,>=2.4.0->notebook>=4.4.1->widgetsnbextension~=3.6.8->ipywidgets<8,>=7.0.0->keplergl) (0.1.4)\n",
      "Requirement already satisfied: rfc3986-validator>=0.1.1 in c:\\users\\raina\\appdata\\local\\packages\\pythonsoftwarefoundation.python.3.11_qbz5n2kfra8p0\\localcache\\local-packages\\python311\\site-packages (from jupyter-events>=0.6.0->jupyter-server<3,>=2.4.0->notebook>=4.4.1->widgetsnbextension~=3.6.8->ipywidgets<8,>=7.0.0->keplergl) (0.1.1)\n",
      "Requirement already satisfied: beautifulsoup4 in c:\\users\\raina\\appdata\\local\\packages\\pythonsoftwarefoundation.python.3.11_qbz5n2kfra8p0\\localcache\\local-packages\\python311\\site-packages (from nbconvert>=6.4.4->jupyter-server<3,>=2.4.0->notebook>=4.4.1->widgetsnbextension~=3.6.8->ipywidgets<8,>=7.0.0->keplergl) (4.12.2)\n",
      "Requirement already satisfied: bleach!=5.0.0 in c:\\users\\raina\\appdata\\local\\packages\\pythonsoftwarefoundation.python.3.11_qbz5n2kfra8p0\\localcache\\local-packages\\python311\\site-packages (from nbconvert>=6.4.4->jupyter-server<3,>=2.4.0->notebook>=4.4.1->widgetsnbextension~=3.6.8->ipywidgets<8,>=7.0.0->keplergl) (6.0.0)\n",
      "Requirement already satisfied: defusedxml in c:\\users\\raina\\appdata\\local\\packages\\pythonsoftwarefoundation.python.3.11_qbz5n2kfra8p0\\localcache\\local-packages\\python311\\site-packages (from nbconvert>=6.4.4->jupyter-server<3,>=2.4.0->notebook>=4.4.1->widgetsnbextension~=3.6.8->ipywidgets<8,>=7.0.0->keplergl) (0.7.1)\n",
      "Requirement already satisfied: jupyterlab-pygments in c:\\users\\raina\\appdata\\local\\packages\\pythonsoftwarefoundation.python.3.11_qbz5n2kfra8p0\\localcache\\local-packages\\python311\\site-packages (from nbconvert>=6.4.4->jupyter-server<3,>=2.4.0->notebook>=4.4.1->widgetsnbextension~=3.6.8->ipywidgets<8,>=7.0.0->keplergl) (0.2.2)\n",
      "Requirement already satisfied: mistune<4,>=2.0.3 in c:\\users\\raina\\appdata\\local\\packages\\pythonsoftwarefoundation.python.3.11_qbz5n2kfra8p0\\localcache\\local-packages\\python311\\site-packages (from nbconvert>=6.4.4->jupyter-server<3,>=2.4.0->notebook>=4.4.1->widgetsnbextension~=3.6.8->ipywidgets<8,>=7.0.0->keplergl) (3.0.1)\n",
      "Requirement already satisfied: nbclient>=0.5.0 in c:\\users\\raina\\appdata\\local\\packages\\pythonsoftwarefoundation.python.3.11_qbz5n2kfra8p0\\localcache\\local-packages\\python311\\site-packages (from nbconvert>=6.4.4->jupyter-server<3,>=2.4.0->notebook>=4.4.1->widgetsnbextension~=3.6.8->ipywidgets<8,>=7.0.0->keplergl) (0.8.0)\n",
      "Requirement already satisfied: pandocfilters>=1.4.1 in c:\\users\\raina\\appdata\\local\\packages\\pythonsoftwarefoundation.python.3.11_qbz5n2kfra8p0\\localcache\\local-packages\\python311\\site-packages (from nbconvert>=6.4.4->jupyter-server<3,>=2.4.0->notebook>=4.4.1->widgetsnbextension~=3.6.8->ipywidgets<8,>=7.0.0->keplergl) (1.5.0)\n",
      "Requirement already satisfied: tinycss2 in c:\\users\\raina\\appdata\\local\\packages\\pythonsoftwarefoundation.python.3.11_qbz5n2kfra8p0\\localcache\\local-packages\\python311\\site-packages (from nbconvert>=6.4.4->jupyter-server<3,>=2.4.0->notebook>=4.4.1->widgetsnbextension~=3.6.8->ipywidgets<8,>=7.0.0->keplergl) (1.2.1)\n",
      "Requirement already satisfied: fastjsonschema in c:\\users\\raina\\appdata\\local\\packages\\pythonsoftwarefoundation.python.3.11_qbz5n2kfra8p0\\localcache\\local-packages\\python311\\site-packages (from nbformat>=5.3.0->jupyter-server<3,>=2.4.0->notebook>=4.4.1->widgetsnbextension~=3.6.8->ipywidgets<8,>=7.0.0->keplergl) (2.18.0)\n",
      "Requirement already satisfied: charset-normalizer<4,>=2 in c:\\users\\raina\\appdata\\local\\packages\\pythonsoftwarefoundation.python.3.11_qbz5n2kfra8p0\\localcache\\local-packages\\python311\\site-packages (from requests>=2.28->jupyterlab-server<3,>=2.22.1->notebook>=4.4.1->widgetsnbextension~=3.6.8->ipywidgets<8,>=7.0.0->keplergl) (3.2.0)\n",
      "Requirement already satisfied: urllib3<3,>=1.21.1 in c:\\users\\raina\\appdata\\local\\packages\\pythonsoftwarefoundation.python.3.11_qbz5n2kfra8p0\\localcache\\local-packages\\python311\\site-packages (from requests>=2.28->jupyterlab-server<3,>=2.22.1->notebook>=4.4.1->widgetsnbextension~=3.6.8->ipywidgets<8,>=7.0.0->keplergl) (2.0.4)\n",
      "Requirement already satisfied: argon2-cffi-bindings in c:\\users\\raina\\appdata\\local\\packages\\pythonsoftwarefoundation.python.3.11_qbz5n2kfra8p0\\localcache\\local-packages\\python311\\site-packages (from argon2-cffi->jupyter-server<3,>=2.4.0->notebook>=4.4.1->widgetsnbextension~=3.6.8->ipywidgets<8,>=7.0.0->keplergl) (21.2.0)\n",
      "Requirement already satisfied: debugpy>=1.6.5 in c:\\users\\raina\\appdata\\local\\packages\\pythonsoftwarefoundation.python.3.11_qbz5n2kfra8p0\\localcache\\local-packages\\python311\\site-packages (from ipykernel->jupyterlab<5,>=4.0.2->notebook>=4.4.1->widgetsnbextension~=3.6.8->ipywidgets<8,>=7.0.0->keplergl) (1.6.7.post1)\n",
      "Requirement already satisfied: nest-asyncio in c:\\users\\raina\\appdata\\local\\packages\\pythonsoftwarefoundation.python.3.11_qbz5n2kfra8p0\\localcache\\local-packages\\python311\\site-packages (from ipykernel->jupyterlab<5,>=4.0.2->notebook>=4.4.1->widgetsnbextension~=3.6.8->ipywidgets<8,>=7.0.0->keplergl) (1.5.7)\n",
      "Requirement already satisfied: psutil in c:\\users\\raina\\appdata\\local\\packages\\pythonsoftwarefoundation.python.3.11_qbz5n2kfra8p0\\localcache\\local-packages\\python311\\site-packages (from ipykernel->jupyterlab<5,>=4.0.2->notebook>=4.4.1->widgetsnbextension~=3.6.8->ipywidgets<8,>=7.0.0->keplergl) (5.9.5)\n",
      "Requirement already satisfied: webencodings in c:\\users\\raina\\appdata\\local\\packages\\pythonsoftwarefoundation.python.3.11_qbz5n2kfra8p0\\localcache\\local-packages\\python311\\site-packages (from bleach!=5.0.0->nbconvert>=6.4.4->jupyter-server<3,>=2.4.0->notebook>=4.4.1->widgetsnbextension~=3.6.8->ipywidgets<8,>=7.0.0->keplergl) (0.5.1)\n",
      "Requirement already satisfied: fqdn in c:\\users\\raina\\appdata\\local\\packages\\pythonsoftwarefoundation.python.3.11_qbz5n2kfra8p0\\localcache\\local-packages\\python311\\site-packages (from jsonschema[format-nongpl]>=4.18.0->jupyter-events>=0.6.0->jupyter-server<3,>=2.4.0->notebook>=4.4.1->widgetsnbextension~=3.6.8->ipywidgets<8,>=7.0.0->keplergl) (1.5.1)\n",
      "Requirement already satisfied: isoduration in c:\\users\\raina\\appdata\\local\\packages\\pythonsoftwarefoundation.python.3.11_qbz5n2kfra8p0\\localcache\\local-packages\\python311\\site-packages (from jsonschema[format-nongpl]>=4.18.0->jupyter-events>=0.6.0->jupyter-server<3,>=2.4.0->notebook>=4.4.1->widgetsnbextension~=3.6.8->ipywidgets<8,>=7.0.0->keplergl) (20.11.0)\n",
      "Requirement already satisfied: jsonpointer>1.13 in c:\\users\\raina\\appdata\\local\\packages\\pythonsoftwarefoundation.python.3.11_qbz5n2kfra8p0\\localcache\\local-packages\\python311\\site-packages (from jsonschema[format-nongpl]>=4.18.0->jupyter-events>=0.6.0->jupyter-server<3,>=2.4.0->notebook>=4.4.1->widgetsnbextension~=3.6.8->ipywidgets<8,>=7.0.0->keplergl) (2.4)\n",
      "Requirement already satisfied: uri-template in c:\\users\\raina\\appdata\\local\\packages\\pythonsoftwarefoundation.python.3.11_qbz5n2kfra8p0\\localcache\\local-packages\\python311\\site-packages (from jsonschema[format-nongpl]>=4.18.0->jupyter-events>=0.6.0->jupyter-server<3,>=2.4.0->notebook>=4.4.1->widgetsnbextension~=3.6.8->ipywidgets<8,>=7.0.0->keplergl) (1.3.0)\n",
      "Requirement already satisfied: webcolors>=1.11 in c:\\users\\raina\\appdata\\local\\packages\\pythonsoftwarefoundation.python.3.11_qbz5n2kfra8p0\\localcache\\local-packages\\python311\\site-packages (from jsonschema[format-nongpl]>=4.18.0->jupyter-events>=0.6.0->jupyter-server<3,>=2.4.0->notebook>=4.4.1->widgetsnbextension~=3.6.8->ipywidgets<8,>=7.0.0->keplergl) (1.13)\n",
      "Requirement already satisfied: cffi>=1.0.1 in c:\\users\\raina\\appdata\\local\\packages\\pythonsoftwarefoundation.python.3.11_qbz5n2kfra8p0\\localcache\\local-packages\\python311\\site-packages (from argon2-cffi-bindings->argon2-cffi->jupyter-server<3,>=2.4.0->notebook>=4.4.1->widgetsnbextension~=3.6.8->ipywidgets<8,>=7.0.0->keplergl) (1.15.1)\n",
      "Requirement already satisfied: soupsieve>1.2 in c:\\users\\raina\\appdata\\local\\packages\\pythonsoftwarefoundation.python.3.11_qbz5n2kfra8p0\\localcache\\local-packages\\python311\\site-packages (from beautifulsoup4->nbconvert>=6.4.4->jupyter-server<3,>=2.4.0->notebook>=4.4.1->widgetsnbextension~=3.6.8->ipywidgets<8,>=7.0.0->keplergl) (2.4.1)\n",
      "Requirement already satisfied: pycparser in c:\\users\\raina\\appdata\\local\\packages\\pythonsoftwarefoundation.python.3.11_qbz5n2kfra8p0\\localcache\\local-packages\\python311\\site-packages (from cffi>=1.0.1->argon2-cffi-bindings->argon2-cffi->jupyter-server<3,>=2.4.0->notebook>=4.4.1->widgetsnbextension~=3.6.8->ipywidgets<8,>=7.0.0->keplergl) (2.21)\n",
      "Requirement already satisfied: arrow>=0.15.0 in c:\\users\\raina\\appdata\\local\\packages\\pythonsoftwarefoundation.python.3.11_qbz5n2kfra8p0\\localcache\\local-packages\\python311\\site-packages (from isoduration->jsonschema[format-nongpl]>=4.18.0->jupyter-events>=0.6.0->jupyter-server<3,>=2.4.0->notebook>=4.4.1->widgetsnbextension~=3.6.8->ipywidgets<8,>=7.0.0->keplergl) (1.2.3)\n",
      "Note: you may need to restart the kernel to use updated packages.\n",
      "Requirement already satisfied: geopandas in c:\\users\\raina\\appdata\\local\\packages\\pythonsoftwarefoundation.python.3.11_qbz5n2kfra8p0\\localcache\\local-packages\\python311\\site-packages (1.0.1)Note: you may need to restart the kernel to use updated packages.\n",
      "\n",
      "Requirement already satisfied: numpy>=1.22 in c:\\users\\raina\\appdata\\local\\packages\\pythonsoftwarefoundation.python.3.11_qbz5n2kfra8p0\\localcache\\local-packages\\python311\\site-packages (from geopandas) (1.26.4)\n",
      "Requirement already satisfied: pyogrio>=0.7.2 in c:\\users\\raina\\appdata\\local\\packages\\pythonsoftwarefoundation.python.3.11_qbz5n2kfra8p0\\localcache\\local-packages\\python311\\site-packages (from geopandas) (0.9.0)\n",
      "Requirement already satisfied: packaging in c:\\users\\raina\\appdata\\local\\packages\\pythonsoftwarefoundation.python.3.11_qbz5n2kfra8p0\\localcache\\local-packages\\python311\\site-packages (from geopandas) (23.1)\n",
      "Requirement already satisfied: pandas>=1.4.0 in c:\\users\\raina\\appdata\\local\\packages\\pythonsoftwarefoundation.python.3.11_qbz5n2kfra8p0\\localcache\\local-packages\\python311\\site-packages (from geopandas) (2.2.2)\n",
      "Requirement already satisfied: pyproj>=3.3.0 in c:\\users\\raina\\appdata\\local\\packages\\pythonsoftwarefoundation.python.3.11_qbz5n2kfra8p0\\localcache\\local-packages\\python311\\site-packages (from geopandas) (3.6.1)\n",
      "Requirement already satisfied: shapely>=2.0.0 in c:\\users\\raina\\appdata\\local\\packages\\pythonsoftwarefoundation.python.3.11_qbz5n2kfra8p0\\localcache\\local-packages\\python311\\site-packages (from geopandas) (2.0.5)\n",
      "Requirement already satisfied: python-dateutil>=2.8.2 in c:\\users\\raina\\appdata\\local\\packages\\pythonsoftwarefoundation.python.3.11_qbz5n2kfra8p0\\localcache\\local-packages\\python311\\site-packages (from pandas>=1.4.0->geopandas) (2.8.2)\n",
      "Requirement already satisfied: pytz>=2020.1 in c:\\users\\raina\\appdata\\local\\packages\\pythonsoftwarefoundation.python.3.11_qbz5n2kfra8p0\\localcache\\local-packages\\python311\\site-packages (from pandas>=1.4.0->geopandas) (2024.1)\n",
      "Requirement already satisfied: tzdata>=2022.7 in c:\\users\\raina\\appdata\\local\\packages\\pythonsoftwarefoundation.python.3.11_qbz5n2kfra8p0\\localcache\\local-packages\\python311\\site-packages (from pandas>=1.4.0->geopandas) (2024.1)\n",
      "Requirement already satisfied: certifi in c:\\users\\raina\\appdata\\local\\packages\\pythonsoftwarefoundation.python.3.11_qbz5n2kfra8p0\\localcache\\local-packages\\python311\\site-packages (from pyogrio>=0.7.2->geopandas) (2024.7.4)\n",
      "Requirement already satisfied: six>=1.5 in c:\\users\\raina\\appdata\\local\\packages\\pythonsoftwarefoundation.python.3.11_qbz5n2kfra8p0\\localcache\\local-packages\\python311\\site-packages (from python-dateutil>=2.8.2->pandas>=1.4.0->geopandas) (1.16.0)\n",
      "Requirement already satisfied: shapely in c:\\users\\raina\\appdata\\local\\packages\\pythonsoftwarefoundation.python.3.11_qbz5n2kfra8p0\\localcache\\local-packages\\python311\\site-packages (2.0.5)\n",
      "Requirement already satisfied: numpy<3,>=1.14 in c:\\users\\raina\\appdata\\local\\packages\\pythonsoftwarefoundation.python.3.11_qbz5n2kfra8p0\\localcache\\local-packages\\python311\\site-packages (from shapely) (1.26.4)\n",
      "Note: you may need to restart the kernel to use updated packages.\n",
      "Requirement already satisfied: polyline in c:\\users\\raina\\appdata\\local\\packages\\pythonsoftwarefoundation.python.3.11_qbz5n2kfra8p0\\localcache\\local-packages\\python311\\site-packages (2.0.2)\n",
      "Requirement already satisfied: shapely in c:\\users\\raina\\appdata\\local\\packages\\pythonsoftwarefoundation.python.3.11_qbz5n2kfra8p0\\localcache\\local-packages\\python311\\site-packages (2.0.5)\n",
      "Requirement already satisfied: numpy<3,>=1.14 in c:\\users\\raina\\appdata\\local\\packages\\pythonsoftwarefoundation.python.3.11_qbz5n2kfra8p0\\localcache\\local-packages\\python311\\site-packages (from shapely) (1.26.4)\n",
      "Note: you may need to restart the kernel to use updated packages.\n"
     ]
    }
   ],
   "source": [
    "%pip install geocoder\n",
    "%pip install leafmap\n",
    "%pip install keplergl\n",
    "%pip install geopandas\n",
    "%pip install shapely\n",
    "%pip install polyline shapely"
   ]
  },
  {
   "cell_type": "code",
   "execution_count": 2,
   "metadata": {},
   "outputs": [],
   "source": [
    "import leafmap.kepler as leafmap\n",
    "import geopandas as gpd\n",
    "import pandas as pd\n",
    "from shapely.geometry import LineString"
   ]
  },
  {
   "cell_type": "code",
   "execution_count": 3,
   "metadata": {},
   "outputs": [
    {
     "data": {
      "application/vnd.jupyter.widget-view+json": {
       "model_id": "ff792f5e0f9f4b9cb4072ca94750fcff",
       "version_major": 2,
       "version_minor": 0
      },
      "text/plain": [
       "Map(config={'version': 'v1', 'config': {'mapState': {'latitude': 51.52738771088042, 'longitude': -0.1535504353…"
      ]
     },
     "metadata": {},
     "output_type": "display_data"
    }
   ],
   "source": [
    "m = leafmap.Map(center=[51.52738771088042, -0.15355043538426116], zoom=14, height=600)\n",
    "m"
   ]
  },
  {
   "cell_type": "code",
   "execution_count": 4,
   "metadata": {},
   "outputs": [
    {
     "data": {
      "text/plain": [
       "0    POINT (-0.15355 51.52739)\n",
       "1    POINT (-0.17343 51.50723)\n",
       "dtype: geometry"
      ]
     },
     "execution_count": 4,
     "metadata": {},
     "output_type": "execute_result"
    }
   ],
   "source": [
    "df = pd.DataFrame({'longitude': [-0.15355043538426116, -0.1734286299198402] , 'latitude': [51.52738771088042, 51.50723029796882]})\n",
    "\n",
    "\n",
    "geometry = gpd.GeoSeries.from_xy(df.longitude, df.latitude, crs=\"EPSG:4326\")\n",
    "geometry"
   ]
  },
  {
   "cell_type": "code",
   "execution_count": 5,
   "metadata": {},
   "outputs": [
    {
     "data": {
      "application/vnd.jupyter.widget-view+json": {
       "model_id": "ca2e8b12f8c44c7fa7287383564ab8a6",
       "version_major": 2,
       "version_minor": 0
      },
      "text/plain": [
       "Map(config={'version': 'v1', 'config': {'mapState': {'latitude': 51.52738771088042, 'longitude': -0.1535504353…"
      ]
     },
     "metadata": {},
     "output_type": "display_data"
    }
   ],
   "source": [
    "m = leafmap.Map(center=[51.52738771088042, -0.15355043538426116], zoom=8, height=600)\n",
    "m.add_gdf(geometry, \"Points\")\n",
    "m"
   ]
  },
  {
   "cell_type": "code",
   "execution_count": 6,
   "metadata": {},
   "outputs": [
    {
     "data": {
      "image/svg+xml": [
       "<svg xmlns=\"http://www.w3.org/2000/svg\" xmlns:xlink=\"http://www.w3.org/1999/xlink\" width=\"100.0\" height=\"100.0\" viewBox=\"-0.1563211031807873 51.525765951137615 0.010770273332014968 0.0037180210349276877\" preserveAspectRatio=\"xMinYMin meet\"><g transform=\"matrix(1,0,0,-1,0,103.05524992331016)\"><polyline fill=\"none\" stroke=\"#66cc99\" stroke-width=\"0.00021540546664029935\" points=\"-0.14594972886106916,51.52894559042994 -0.15129551682267106,51.528032855631494 -0.15160535880559678,51.52845341849624 -0.1523200326853953,51.52888527901317 -0.15306815191993906,51.529085073160246 -0.15416644905539556,51.52906946502597 -0.15542601537725886,51.52852049779611 -0.15592220416849045,51.52778058446981 -0.15588035911886777,51.52728077227175 -0.15533231695596328,51.52663527065718 -0.15462029969279456,51.5262980383138 -0.15362806237664017,51.52616485014991 -0.15276108049147297,51.526267843705796 -0.1518908002990429,51.52661042402386 -0.151368460601077,51.52714885220857 -0.15122574843908865,51.5276024316164 -0.15131261295630338,51.52804851126257\" opacity=\"0.8\" /></g></svg>"
      ],
      "text/plain": [
       "<LINESTRING (-0.146 51.529, -0.151 51.528, -0.152 51.528, -0.152 51.529, -0....>"
      ]
     },
     "execution_count": 6,
     "metadata": {},
     "output_type": "execute_result"
    }
   ],
   "source": [
    "a = LineString([\n",
    "          [\n",
    "            -0.14594972886106916,\n",
    "            51.52894559042994\n",
    "          ],\n",
    "          [\n",
    "            -0.15129551682267106,\n",
    "            51.528032855631494\n",
    "          ],\n",
    "          [\n",
    "            -0.15160535880559678,\n",
    "            51.52845341849624\n",
    "          ],\n",
    "          [\n",
    "            -0.1523200326853953,\n",
    "            51.52888527901317\n",
    "          ],\n",
    "          [\n",
    "            -0.15306815191993906,\n",
    "            51.529085073160246\n",
    "          ],\n",
    "          [\n",
    "            -0.15416644905539556,\n",
    "            51.52906946502597\n",
    "          ],\n",
    "          [\n",
    "            -0.15542601537725886,\n",
    "            51.52852049779611\n",
    "          ],\n",
    "          [\n",
    "            -0.15592220416849045,\n",
    "            51.52778058446981\n",
    "          ],\n",
    "          [\n",
    "            -0.15588035911886777,\n",
    "            51.52728077227175\n",
    "          ],\n",
    "          [\n",
    "            -0.15533231695596328,\n",
    "            51.52663527065718\n",
    "          ],\n",
    "          [\n",
    "            -0.15462029969279456,\n",
    "            51.5262980383138\n",
    "          ],\n",
    "          [\n",
    "            -0.15362806237664017,\n",
    "            51.52616485014991\n",
    "          ],\n",
    "          [\n",
    "            -0.15276108049147297,\n",
    "            51.526267843705796\n",
    "          ],\n",
    "          [\n",
    "            -0.1518908002990429,\n",
    "            51.52661042402386\n",
    "          ],\n",
    "          [\n",
    "            -0.151368460601077,\n",
    "            51.52714885220857\n",
    "          ],\n",
    "          [\n",
    "            -0.15122574843908865,\n",
    "            51.5276024316164\n",
    "          ],\n",
    "          [\n",
    "            -0.15131261295630338,\n",
    "            51.52804851126257\n",
    "          ]\n",
    "        ])\n",
    "a"
   ]
  },
  {
   "cell_type": "code",
   "execution_count": 7,
   "metadata": {},
   "outputs": [],
   "source": [
    "a = gpd.GeoSeries(a, crs='4326')"
   ]
  },
  {
   "cell_type": "code",
   "execution_count": 8,
   "metadata": {},
   "outputs": [
    {
     "data": {
      "application/vnd.jupyter.widget-view+json": {
       "model_id": "7df84d35534848b8a7211109ecd7c0b6",
       "version_major": 2,
       "version_minor": 0
      },
      "text/plain": [
       "Map(config={'version': 'v1', 'config': {'mapState': {'latitude': 51.52738771088042, 'longitude': -0.1535504353…"
      ]
     },
     "metadata": {},
     "output_type": "display_data"
    }
   ],
   "source": [
    "m = leafmap.Map(center=[51.52738771088042, -0.15355043538426116], zoom=8, height=1000, widescreen=False)\n",
    "m.add_gdf(a, \"Linestring Layer\")\n",
    "m"
   ]
  },
  {
   "cell_type": "code",
   "execution_count": 9,
   "metadata": {},
   "outputs": [
    {
     "name": "stdout",
     "output_type": "stream",
     "text": [
      "(51.5033779207167, -0.07657865997245494)\n"
     ]
    }
   ],
   "source": [
    "import geocoder # pip install geocoder\n",
    "g = geocoder.arcgis('London, Tower Bridge Rd, London SE1 2UP')\n",
    "latlon = g.lat, g.lng\n",
    "print(latlon)"
   ]
  },
  {
   "cell_type": "code",
   "execution_count": 10,
   "metadata": {},
   "outputs": [
    {
     "data": {
      "application/vnd.jupyter.widget-view+json": {
       "model_id": "9661ab25490043c580a7150ccea347ab",
       "version_major": 2,
       "version_minor": 0
      },
      "text/plain": [
       "Map(config={'version': 'v1', 'config': {'mapState': {'latitude': 51.52738771088042, 'longitude': -0.1535504353…"
      ]
     },
     "metadata": {},
     "output_type": "display_data"
    }
   ],
   "source": [
    "df = pd.DataFrame({'longitude': [latlon[1]] , 'latitude': [latlon[0]]})\n",
    "geometry = gpd.GeoSeries.from_xy(df.longitude, df.latitude , crs=\"EPSG:4326\")\n",
    "m = leafmap.Map(center=[51.52738771088042, -0.15355043538426116], zoom=12, height=1000, widescreen=False)\n",
    "m.add_gdf(geometry, \"Points\")\n",
    "m"
   ]
  },
  {
   "cell_type": "code",
   "execution_count": 13,
   "metadata": {},
   "outputs": [
    {
     "data": {
      "text/html": [
       "<div>\n",
       "<style scoped>\n",
       "    .dataframe tbody tr th:only-of-type {\n",
       "        vertical-align: middle;\n",
       "    }\n",
       "\n",
       "    .dataframe tbody tr th {\n",
       "        vertical-align: top;\n",
       "    }\n",
       "\n",
       "    .dataframe thead th {\n",
       "        text-align: right;\n",
       "    }\n",
       "</style>\n",
       "<table border=\"1\" class=\"dataframe\">\n",
       "  <thead>\n",
       "    <tr style=\"text-align: right;\">\n",
       "      <th></th>\n",
       "      <th>fas_id</th>\n",
       "      <th>name</th>\n",
       "      <th>address</th>\n",
       "      <th>postcode</th>\n",
       "      <th>easting</th>\n",
       "      <th>northing</th>\n",
       "      <th>latitude</th>\n",
       "      <th>longitude</th>\n",
       "      <th>local_authority</th>\n",
       "    </tr>\n",
       "  </thead>\n",
       "  <tbody>\n",
       "    <tr>\n",
       "      <th>0</th>\n",
       "      <td>24</td>\n",
       "      <td>Anchor Inn</td>\n",
       "      <td>Upper Street, Stratford St Mary, COLCHESTER, E...</td>\n",
       "      <td>CO7 6LW</td>\n",
       "      <td>604748</td>\n",
       "      <td>234405.0</td>\n",
       "      <td>51.970390</td>\n",
       "      <td>0.979328</td>\n",
       "      <td>Babergh</td>\n",
       "    </tr>\n",
       "    <tr>\n",
       "      <th>1</th>\n",
       "      <td>30</td>\n",
       "      <td>Angel Inn</td>\n",
       "      <td>Egremont Street, Glemsford, SUDBURY, Suffolk</td>\n",
       "      <td>CO10 7SA</td>\n",
       "      <td>582888</td>\n",
       "      <td>247368.0</td>\n",
       "      <td>52.094427</td>\n",
       "      <td>0.668408</td>\n",
       "      <td>Babergh</td>\n",
       "    </tr>\n",
       "    <tr>\n",
       "      <th>2</th>\n",
       "      <td>63</td>\n",
       "      <td>Black Boy Hotel</td>\n",
       "      <td>7 Market Hill, SUDBURY, Suffolk</td>\n",
       "      <td>CO10 2EA</td>\n",
       "      <td>587356</td>\n",
       "      <td>241327.0</td>\n",
       "      <td>52.038683</td>\n",
       "      <td>0.730226</td>\n",
       "      <td>Babergh</td>\n",
       "    </tr>\n",
       "    <tr>\n",
       "      <th>3</th>\n",
       "      <td>64</td>\n",
       "      <td>Black Horse</td>\n",
       "      <td>Lower Street, Stratford St Mary, COLCHESTER, E...</td>\n",
       "      <td>CO7 6JS</td>\n",
       "      <td>604270</td>\n",
       "      <td>233920.0</td>\n",
       "      <td>51.966211</td>\n",
       "      <td>0.972091</td>\n",
       "      <td>Babergh</td>\n",
       "    </tr>\n",
       "    <tr>\n",
       "      <th>4</th>\n",
       "      <td>65</td>\n",
       "      <td>Black Lion</td>\n",
       "      <td>Lion Road, Glemsford, SUDBURY, Suffolk</td>\n",
       "      <td>CO10 7RF</td>\n",
       "      <td>582750</td>\n",
       "      <td>248298.0</td>\n",
       "      <td>52.102815</td>\n",
       "      <td>0.666893</td>\n",
       "      <td>Babergh</td>\n",
       "    </tr>\n",
       "  </tbody>\n",
       "</table>\n",
       "</div>"
      ],
      "text/plain": [
       "   fas_id             name                                            address  \\\n",
       "0      24       Anchor Inn  Upper Street, Stratford St Mary, COLCHESTER, E...   \n",
       "1      30        Angel Inn       Egremont Street, Glemsford, SUDBURY, Suffolk   \n",
       "2      63  Black Boy Hotel                    7 Market Hill, SUDBURY, Suffolk   \n",
       "3      64      Black Horse  Lower Street, Stratford St Mary, COLCHESTER, E...   \n",
       "4      65       Black Lion             Lion Road, Glemsford, SUDBURY, Suffolk   \n",
       "\n",
       "   postcode  easting  northing   latitude  longitude local_authority  \n",
       "0   CO7 6LW   604748  234405.0  51.970390   0.979328         Babergh  \n",
       "1  CO10 7SA   582888  247368.0  52.094427   0.668408         Babergh  \n",
       "2  CO10 2EA   587356  241327.0  52.038683   0.730226         Babergh  \n",
       "3   CO7 6JS   604270  233920.0  51.966211   0.972091         Babergh  \n",
       "4  CO10 7RF   582750  248298.0  52.102815   0.666893         Babergh  "
      ]
     },
     "execution_count": 13,
     "metadata": {},
     "output_type": "execute_result"
    }
   ],
   "source": [
    "df= pd.read_csv('open_pubs.csv')\n",
    "df = df.iloc[:300,:]\n",
    "df['latitude'] = pd.to_numeric(df['latitude'])\n",
    "df['longitude'] = pd.to_numeric(df['longitude'])\n",
    "df.head()"
   ]
  },
  {
   "cell_type": "code",
   "execution_count": 16,
   "metadata": {},
   "outputs": [
    {
     "data": {
      "application/vnd.jupyter.widget-view+json": {
       "model_id": "b69a5fc677ef42fca4ac90cb929e5700",
       "version_major": 2,
       "version_minor": 0
      },
      "text/plain": [
       "Map(config={'version': 'v1', 'config': {'mapState': {'latitude': 51.52738771088042, 'longitude': -0.1535504353…"
      ]
     },
     "metadata": {},
     "output_type": "display_data"
    }
   ],
   "source": [
    "df = pd.DataFrame({'longitude': df.longitude , 'latitude': df.latitude})\n",
    "geometry = gpd.GeoSeries.from_xy(df.longitude, df.latitude , crs=\"EPSG:4326\")\n",
    "m = leafmap.Map(center=[51.52738771088042, -0.15355043538426116], zoom=12, height=1000, widescreen=False)\n",
    "m.add_gdf(geometry, \"Points\")\n",
    "m"
   ]
  },
  {
   "cell_type": "code",
   "execution_count": 17,
   "metadata": {},
   "outputs": [
    {
     "data": {
      "text/plain": [
       "'mfp_I__vpAWBSBE?C?C@m@DuALI@O@wAJK@SBOOG@K@c@DyBPA?G@IDIDA@M@]BUBSBA?E@E@A@IFWBG@C?WBm@FG@I@aBNG@k@FM@OBaBNG@M@mAFc@@}@Fu@DG?a@B]@oAF}@JA?[Do@FoCXSBO@ODA@UDA?ODE@GBC?uBNE?OAKCC]AK]mCCUGg@[iCUaBAKAOSsAE[i@mEa@eDAMACAKCQGi@AKQuACOKy@E_@G[Gc@]wBw@aFKw@M{@k@qDCMAKIq@?KAQ?KIuDI_D?GAk@AWCaAEuB@U@U?MCs@?I?IASAg@ASMaF?OAi@?c@@c@Du@r@cH@U@I@G@I?G~@kJRyBf@uE@KFi@@KBOLeABMFc@Da@@GT_CDa@Fk@Ny@Ha@RiAfBuJF]DOh@yAHSf@aADIR_@JS@C@A@CJSWWEECEECOQe@a@CCUQaCkB{@y@GESO?_@?C?C?i@G{BIsCAKA[MaE?SKgDCi@?Q?YBKf@_ENg@D]T{ABIHm@FY@GBUJk@@IHcA?c@?QAQG]JKDC@ADCHOL]FOFUT{@BKTu@La@\\\\gANg@L_@DOJ[~@kBP[JSXg@^q@R]Ta@HQR]b@y@^s@Xg@JQHQP_@HQLMLKRIFAL?J@HBFBr@XNH^NHDTJNFTRRJd@LXFB@B?J@J@@X?L?F@jA@dB'"
      ]
     },
     "execution_count": 17,
     "metadata": {},
     "output_type": "execute_result"
    }
   ],
   "source": [
    "# importing the requests library\n",
    "import requests\n",
    "\n",
    "# api-endpoint\n",
    "url = \"https://router.project-osrm.org/route/v1/driving/13.388860,52.517037;13.397634,52.529407;13.428555,52.523219?overview=full\"\n",
    "\n",
    "\n",
    "\n",
    "# sending get request and saving the response as response object\n",
    "r = requests.get(url )\n",
    "\n",
    "# extracting data in json format\n",
    "data = r.json()\n",
    "encoded_polyline = data['routes'][0]['geometry']\n",
    "encoded_polyline"
   ]
  },
  {
   "cell_type": "code",
   "execution_count": 19,
   "metadata": {},
   "outputs": [],
   "source": [
    "import polyline\n",
    "decoded_polyline = polyline.decode(encoded_polyline, 5)\n",
    "decoded_polyline = [t[::-1] for t in decoded_polyline]\n",
    "decoded_polyline = gpd.GeoSeries(LineString(decoded_polyline[::-1]), crs='4326')"
   ]
  },
  {
   "cell_type": "code",
   "execution_count": 20,
   "metadata": {},
   "outputs": [
    {
     "data": {
      "application/vnd.jupyter.widget-view+json": {
       "model_id": "c0c782fed6a2492a8f70a0a5e81fe515",
       "version_major": 2,
       "version_minor": 0
      },
      "text/plain": [
       "Map(config={'version': 'v1', 'config': {'mapState': {'latitude': 51.52738771088042, 'longitude': -0.1535504353…"
      ]
     },
     "metadata": {},
     "output_type": "display_data"
    }
   ],
   "source": [
    "# geometry = gpd.GeoSeries.from_xy(decoded_polyline_points.longitude, decoded_polyline_points.latitude , crs=\"EPSG:4326\")\n",
    "m = leafmap.Map(center=[51.52738771088042, -0.15355043538426116], zoom=12, height=1000, widescreen=False)\n",
    "m.add_gdf(decoded_polyline, \"Points\")\n",
    "m"
   ]
  },
  {
   "cell_type": "code",
   "execution_count": 21,
   "metadata": {},
   "outputs": [],
   "source": [
    "def main(path):\n",
    "  url = ''\n",
    "  df= pd.read_csv(path)\n",
    "  df = df.iloc[:300,:]\n",
    "  df['latitude'] = pd.to_numeric(df['latitude'])\n",
    "  df['longitude'] = pd.to_numeric(df['longitude'])\n",
    "  for i in range(len(df)):\n",
    "    url += str(df['longitude'][i]) + ',' + str(df['latitude'][i]) + ';'\n",
    "  url = f\"https://router.project-osrm.org/route/v1/driving/{url[:-2]}?overview=full\"\n",
    "  r = requests.get(url )\n",
    "  data = r.json()\n",
    "  encoded_polyline = data['routes'][0]['geometry']\n",
    "  decoded_polyline = polyline.decode(encoded_polyline, 5)\n",
    "  decoded_polyline = [t[::-1] for t in decoded_polyline]\n",
    "  decoded_polyline = gpd.GeoSeries(LineString(decoded_polyline[::-1]), crs='4326')\n",
    "  return decoded_polyline"
   ]
  },
  {
   "cell_type": "code",
   "execution_count": 22,
   "metadata": {},
   "outputs": [],
   "source": [
    "route = main('open_pubs.csv')"
   ]
  },
  {
   "cell_type": "code",
   "execution_count": 23,
   "metadata": {},
   "outputs": [
    {
     "data": {
      "text/plain": [
       "0    LINESTRING (-0.50739 52.13843, -0.50744 52.138...\n",
       "dtype: geometry"
      ]
     },
     "execution_count": 23,
     "metadata": {},
     "output_type": "execute_result"
    }
   ],
   "source": [
    "route"
   ]
  },
  {
   "cell_type": "code",
   "execution_count": 24,
   "metadata": {},
   "outputs": [
    {
     "data": {
      "application/vnd.jupyter.widget-view+json": {
       "model_id": "be49b83721804d3ba1cec0617abcd343",
       "version_major": 2,
       "version_minor": 0
      },
      "text/plain": [
       "Map(config={'version': 'v1', 'config': {'mapState': {'latitude': 51.52738771088042, 'longitude': -0.1535504353…"
      ]
     },
     "metadata": {},
     "output_type": "display_data"
    }
   ],
   "source": [
    "m = leafmap.Map(center=[51.52738771088042, -0.15355043538426116], zoom=12, height=600, widescreen=False)\n",
    "m.add_gdf(route, \"route\")\n",
    "m"
   ]
  }
 ],
 "metadata": {
  "kernelspec": {
   "display_name": "Python 3",
   "language": "python",
   "name": "python3"
  },
  "language_info": {
   "codemirror_mode": {
    "name": "ipython",
    "version": 3
   },
   "file_extension": ".py",
   "mimetype": "text/x-python",
   "name": "python",
   "nbconvert_exporter": "python",
   "pygments_lexer": "ipython3",
   "version": "3.11.9"
  }
 },
 "nbformat": 4,
 "nbformat_minor": 2
}
